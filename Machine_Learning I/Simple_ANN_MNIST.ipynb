{
  "cells": [
    {
      "cell_type": "markdown",
      "source": [
        "#### Most of the deep learning concepts as basic building blocks and fundamentals will be taught by the code files only ( Total 10 such .ipynb files )"
      ],
      "metadata": {
        "id": "HN2zb3wGvoLT"
      }
    },
    {
      "cell_type": "markdown",
      "metadata": {
        "id": "aXv2t4Q5jBDh"
      },
      "source": [
        "Let's use NumPy to process matrix values, Matplotlib to show images and Keras to build the Neural Network model. Additionally, the MNIST dataset itself is also taken from Keras framework."
      ]
    },
    {
      "cell_type": "code",
      "execution_count": null,
      "metadata": {
        "id": "jpjrD9cXjJsd"
      },
      "outputs": [],
      "source": [
        "import numpy as np\n",
        "import matplotlib.pyplot as plt\n",
        "from keras.layers import Dense, Flatten\n",
        "from keras.models import Sequential\n",
        "from keras.utils import to_categorical\n",
        "from keras.datasets import mnist"
      ]
    },
    {
      "cell_type": "markdown",
      "metadata": {
        "id": "xFXjB8o0jMtt"
      },
      "source": [
        "Next, we can load the dataset by using the following code. Note that this may take a while especially if this is your first time working with MNIST dataset. After running the code below, we will have 4 variables namely X_train, y_train, X_test and y_test, where X is the image and y is the target label. These train and test data consist of 60000 and 10000 images respectively, in which all those images are already in the same size (28 by 28 pixels)."
      ]
    },
    {
      "cell_type": "code",
      "execution_count": null,
      "metadata": {
        "id": "lbPNkDOmkiGK",
        "colab": {
          "base_uri": "https://localhost:8080/"
        },
        "outputId": "da2971db-20dd-4c5f-bb28-0ed2859261a7"
      },
      "outputs": [
        {
          "output_type": "stream",
          "name": "stdout",
          "text": [
            "Downloading data from https://storage.googleapis.com/tensorflow/tf-keras-datasets/mnist.npz\n",
            "11490434/11490434 [==============================] - 0s 0us/step\n"
          ]
        }
      ],
      "source": [
        "# Load MNIST handwritten digit data\n",
        "(X_train, y_train), (X_test, y_test) = mnist.load_data()"
      ]
    },
    {
      "cell_type": "markdown",
      "metadata": {
        "id": "pokanPI9kl2x"
      },
      "source": [
        "You may crosscheck those numbers I mentioned above by using the following script:"
      ]
    },
    {
      "cell_type": "code",
      "execution_count": null,
      "metadata": {
        "id": "0Nd9H2Wlks5d",
        "colab": {
          "base_uri": "https://localhost:8080/"
        },
        "outputId": "a0ff4242-c5cb-4ffa-e215-b52806273cdf"
      },
      "outputs": [
        {
          "output_type": "stream",
          "name": "stdout",
          "text": [
            "(60000, 28, 28)\n",
            "(10000, 28, 28)\n"
          ]
        }
      ],
      "source": [
        "print(X_train.shape)\n",
        "print(X_test.shape)"
      ]
    },
    {
      "cell_type": "markdown",
      "metadata": {
        "id": "boGqWrDPmBZl"
      },
      "source": [
        "Up to this point you might be wondering how the MNIST Digit images look like. We may, now see the first 7 images in the dataset by using the following code:"
      ]
    },
    {
      "cell_type": "code",
      "execution_count": null,
      "metadata": {
        "colab": {
          "base_uri": "https://localhost:8080/",
          "height": 135
        },
        "id": "Ey4fAkg0lOQM",
        "outputId": "b4aef418-c8f2-430a-e650-e7059a4e61a5"
      },
      "outputs": [
        {
          "output_type": "display_data",
          "data": {
            "text/plain": [
              "<Figure size 1000x400 with 8 Axes>"
            ],
            "image/png": "[encoded data removed]"
          },
          "metadata": {}
        }
      ],
      "source": [
        "# Display some images\n",
        "fig, axes = plt.subplots(ncols=8, sharex=False,\n",
        "    sharey=True, figsize=(10, 4))\n",
        "for i in range(8):\n",
        "    axes[i].set_title(y_train[i])\n",
        "    axes[i].imshow(X_train[i], cmap='gray')\n",
        "    axes[i].get_xaxis().set_visible(False)\n",
        "    axes[i].get_yaxis().set_visible(False)\n",
        "plt.show()"
      ]
    },
    {
      "cell_type": "markdown",
      "metadata": {
        "id": "AfVsY_47mWQc"
      },
      "source": [
        "The images from above code show the digit written by hand (X) along with the label (y) above each images.\n",
        "\n",
        "Now we will turn all the labels into one-hot representation. It can be done easily by using to_categorical() function from Keras module. Before using the function into our main program, I will explain a bit about how the function works. So in the example below I am going to find out the one-hot representation of class with label 3 in which the total number of classes are 10."
      ]
    },
    {
      "cell_type": "code",
      "execution_count": null,
      "metadata": {
        "colab": {
          "base_uri": "https://localhost:8080/"
        },
        "id": "80IXPjbtmdEU",
        "outputId": "7c94119f-e978-4c97-91ea-1ac041000780"
      },
      "outputs": [
        {
          "output_type": "execute_result",
          "data": {
            "text/plain": [
              "array([0., 0., 0., 0., 1., 0., 0., 0., 0., 0.], dtype=float32)"
            ]
          },
          "metadata": {},
          "execution_count": 6
        }
      ],
      "source": [
        "to_categorical(4, num_classes=10)"
      ]
    },
    {
      "cell_type": "markdown",
      "metadata": {
        "id": "1yTG6SgtnPBT"
      },
      "source": [
        "You can see here that the output is a simple array which has all-zero values except the value of index 5. And that’s it. Such representation is called as one-hot encoding. Now what we want to do in our program is to one-hot-encode all the target labels (both y_train and y_test), which can be done by using the following code:"
      ]
    },
    {
      "cell_type": "code",
      "execution_count": null,
      "metadata": {
        "id": "jGG_S4YFnOSt"
      },
      "outputs": [],
      "source": [
        "# Convert y_train into one-hot format\n",
        "temp = []\n",
        "for i in range(len(y_train)):\n",
        "    temp.append(to_categorical(y_train[i], num_classes=10))\n",
        "y_train = np.array(temp)\n",
        "# Convert y_test into one-hot format\n",
        "temp = []\n",
        "for i in range(len(y_test)):\n",
        "    temp.append(to_categorical(y_test[i], num_classes=10))\n",
        "y_test = np.array(temp)"
      ]
    },
    {
      "cell_type": "code",
      "execution_count": null,
      "metadata": {
        "colab": {
          "base_uri": "https://localhost:8080/"
        },
        "id": "nz7Uh83dnbt8",
        "outputId": "da549aff-b5a1-44c4-f82f-f408cf27e447"
      },
      "outputs": [
        {
          "output_type": "stream",
          "name": "stdout",
          "text": [
            "(60000, 10)\n",
            "(10000, 10)\n"
          ]
        }
      ],
      "source": [
        "print(y_train.shape)\n",
        "print(y_test.shape)"
      ]
    },
    {
      "cell_type": "markdown",
      "metadata": {
        "id": "ClgUlX_wnfrV"
      },
      "source": [
        "Alright, so up to this point, we have already had a correct target label shape. Now we can start to create the Neural Network model using Keras."
      ]
    },
    {
      "cell_type": "markdown",
      "metadata": {
        "id": "9rIs1MIPn8JS"
      },
      "source": [
        "The first thing to do is to initialize a sequential model. Afterwards, we are now able to add layers to it. Here I start the Neural Network model with a flatten layer because we need to reshape the 28 by 28 pixels image (2-dimensions) into 784 values (1-dimension). Next, we connect this 784 values into 5 neurons with sigmoid activation function. Actually, you can freely choose any number of neurons for this layer, but since I want to make the Neural Network model to be simple and fast to train so I just go with 5 neurons for this case. The last thing to add is another dense layer (here I use softmax activation function) which acts as our output layer. In the last layer we need to use 10 neurons because our classification task have 10 different classes."
      ]
    },
    {
      "cell_type": "code",
      "execution_count": null,
      "metadata": {
        "id": "5ekXeDfCn9M9"
      },
      "outputs": [],
      "source": [
        "# Create simple Neural Network model\n",
        "model = Sequential()\n",
        "model.add(Flatten(input_shape=(28,28)))\n",
        "model.add(Dense(5, activation='sigmoid'))\n",
        "model.add(Dense(10, activation='softmax'))"
      ]
    },
    {
      "cell_type": "code",
      "execution_count": null,
      "metadata": {
        "colab": {
          "background_save": true
        },
        "id": "3imuRcANAU_4"
      },
      "outputs": [],
      "source": [
        "model1 = Sequential()\n",
        "model1.add(Flatten(input_shape=(28,28)))\n",
        "model1.add(Dense(5, activation='sigmoid'))\n",
        "model1.add(Dense(10, activation='sigmoid'))\n",
        "model1.add(Dense(10, activation='softmax'))"
      ]
    },
    {
      "cell_type": "code",
      "execution_count": null,
      "metadata": {
        "id": "otu1pnuSBfgu"
      },
      "outputs": [],
      "source": [
        "model2 = Sequential()\n",
        "model2.add(Flatten(input_shape=(28,28)))\n",
        "model2.add(Dense(10, activation='sigmoid'))\n",
        "model2.add(Dense(5, activation='relu'))\n",
        "model2.add(Dense(10, activation='softmax'))"
      ]
    },
    {
      "cell_type": "markdown",
      "metadata": {
        "id": "YXFlqnXjoA6c"
      },
      "source": [
        "We can also use the code below in order to see the details of our architecture:"
      ]
    },
    {
      "cell_type": "code",
      "execution_count": null,
      "metadata": {
        "colab": {
          "base_uri": "https://localhost:8080/"
        },
        "id": "roQ6nxLcnhH8",
        "outputId": "09f60fd7-a97c-481c-ae81-3cfa6f2adb93"
      },
      "outputs": [
        {
          "output_type": "stream",
          "name": "stdout",
          "text": [
            "Model: \"sequential_1\"\n",
            "_________________________________________________________________\n",
            " Layer (type)                Output Shape              Param #   \n",
            "=================================================================\n",
            " flatten_1 (Flatten)         (None, 784)               0         \n",
            "                                                                 \n",
            " dense_2 (Dense)             (None, 10)                7850      \n",
            "                                                                 \n",
            " dense_3 (Dense)             (None, 5)                 55        \n",
            "                                                                 \n",
            " dense_4 (Dense)             (None, 10)                60        \n",
            "                                                                 \n",
            "=================================================================\n",
            "Total params: 7965 (31.11 KB)\n",
            "Trainable params: 7965 (31.11 KB)\n",
            "Non-trainable params: 0 (0.00 Byte)\n",
            "_________________________________________________________________\n"
          ]
        }
      ],
      "source": [
        "model2.summary()"
      ]
    },
    {
      "cell_type": "markdown",
      "metadata": {
        "id": "SLzqPIm_oLyn"
      },
      "source": [
        "After constructing the Neural Network classifier model, we need to compile it with the following code:"
      ]
    },
    {
      "cell_type": "code",
      "execution_count": null,
      "metadata": {
        "id": "46S2SI6NoLDd"
      },
      "outputs": [],
      "source": [
        "model.compile(loss='categorical_crossentropy',\n",
        "              optimizer='adam',\n",
        "              metrics=['acc'])"
      ]
    },
    {
      "cell_type": "code",
      "execution_count": null,
      "metadata": {
        "id": "tE6BChFBBrDT"
      },
      "outputs": [],
      "source": [
        "model2.compile(loss='categorical_crossentropy',\n",
        "              optimizer='adam',\n",
        "              metrics=['acc'])"
      ]
    },
    {
      "cell_type": "markdown",
      "metadata": {
        "id": "jmsEr7JSoyfK"
      },
      "source": [
        "The code above shows that we pass categorical cross entropy for the loss function argument because it is just the best one to be used in multiclass classification problem. Next, we use Adam optimizer since it is also the best one for most cases. Lastly we have accuracy to be passed in metrics argument in order to measure the performance of our classifier."
      ]
    },
    {
      "cell_type": "markdown",
      "metadata": {
        "id": "uyKthfGZo5VS"
      },
      "source": [
        "Now into the fun part: training our Neural Network! So basically training a model is easy as what we need to do is just to run the fit() method on our model."
      ]
    },
    {
      "cell_type": "code",
      "execution_count": null,
      "metadata": {
        "colab": {
          "base_uri": "https://localhost:8080/"
        },
        "id": "Fkg6GIT7AyWB",
        "outputId": "2f139735-f7da-4ef4-b9b2-2f7da33175ba"
      },
      "outputs": [
        {
          "output_type": "stream",
          "name": "stdout",
          "text": [
            "Epoch 1/30\n",
            "1875/1875 [==============================] - 9s 4ms/step - loss: 1.4102 - acc: 0.5194 - val_loss: 0.9403 - val_acc: 0.6778\n",
            "Epoch 2/30\n",
            "1875/1875 [==============================] - 8s 4ms/step - loss: 0.8861 - acc: 0.7026 - val_loss: 0.8307 - val_acc: 0.7226\n",
            "Epoch 3/30\n",
            "1875/1875 [==============================] - 8s 4ms/step - loss: 0.7688 - acc: 0.7473 - val_loss: 0.7366 - val_acc: 0.7771\n",
            "Epoch 4/30\n",
            "1875/1875 [==============================] - 7s 4ms/step - loss: 0.7304 - acc: 0.7694 - val_loss: 0.7119 - val_acc: 0.7803\n",
            "Epoch 5/30\n",
            "1875/1875 [==============================] - 8s 4ms/step - loss: 0.7023 - acc: 0.7791 - val_loss: 0.6513 - val_acc: 0.7875\n",
            "Epoch 6/30\n",
            "1875/1875 [==============================] - 8s 4ms/step - loss: 0.6459 - acc: 0.8102 - val_loss: 0.6294 - val_acc: 0.8254\n",
            "Epoch 7/30\n",
            "1875/1875 [==============================] - 7s 4ms/step - loss: 0.6112 - acc: 0.8287 - val_loss: 0.6551 - val_acc: 0.8112\n",
            "Epoch 8/30\n",
            "1875/1875 [==============================] - 8s 4ms/step - loss: 0.6149 - acc: 0.8307 - val_loss: 0.5922 - val_acc: 0.8419\n",
            "Epoch 9/30\n",
            "1875/1875 [==============================] - 7s 4ms/step - loss: 0.5850 - acc: 0.8406 - val_loss: 0.5385 - val_acc: 0.8658\n",
            "Epoch 10/30\n",
            "1875/1875 [==============================] - 8s 4ms/step - loss: 0.5713 - acc: 0.8467 - val_loss: 0.6155 - val_acc: 0.8279\n",
            "Epoch 11/30\n",
            "1875/1875 [==============================] - 7s 4ms/step - loss: 0.5503 - acc: 0.8509 - val_loss: 0.4999 - val_acc: 0.8646\n",
            "Epoch 12/30\n",
            "1875/1875 [==============================] - 8s 4ms/step - loss: 0.5439 - acc: 0.8483 - val_loss: 0.5496 - val_acc: 0.8520\n",
            "Epoch 13/30\n",
            "1875/1875 [==============================] - 7s 4ms/step - loss: 0.5363 - acc: 0.8540 - val_loss: 0.5051 - val_acc: 0.8657\n",
            "Epoch 14/30\n",
            "1875/1875 [==============================] - 8s 4ms/step - loss: 0.5243 - acc: 0.8558 - val_loss: 0.5025 - val_acc: 0.8698\n",
            "Epoch 15/30\n",
            "1875/1875 [==============================] - 7s 4ms/step - loss: 0.5079 - acc: 0.8600 - val_loss: 0.5254 - val_acc: 0.8508\n",
            "Epoch 16/30\n",
            "1875/1875 [==============================] - 8s 4ms/step - loss: 0.5009 - acc: 0.8629 - val_loss: 0.4735 - val_acc: 0.8712\n",
            "Epoch 17/30\n",
            "1875/1875 [==============================] - 8s 4ms/step - loss: 0.5160 - acc: 0.8543 - val_loss: 0.6039 - val_acc: 0.8302\n",
            "Epoch 18/30\n",
            "1875/1875 [==============================] - 7s 4ms/step - loss: 0.5029 - acc: 0.8604 - val_loss: 0.4683 - val_acc: 0.8795\n",
            "Epoch 19/30\n",
            "1875/1875 [==============================] - 8s 4ms/step - loss: 0.4823 - acc: 0.8673 - val_loss: 0.4626 - val_acc: 0.8769\n",
            "Epoch 20/30\n",
            "1875/1875 [==============================] - 7s 4ms/step - loss: 0.4854 - acc: 0.8695 - val_loss: 0.4545 - val_acc: 0.8810\n",
            "Epoch 21/30\n",
            "1875/1875 [==============================] - 8s 4ms/step - loss: 0.4820 - acc: 0.8688 - val_loss: 0.4551 - val_acc: 0.8751\n",
            "Epoch 22/30\n",
            "1875/1875 [==============================] - 7s 4ms/step - loss: 0.4692 - acc: 0.8711 - val_loss: 0.4555 - val_acc: 0.8788\n",
            "Epoch 23/30\n",
            "1875/1875 [==============================] - 8s 4ms/step - loss: 0.4726 - acc: 0.8727 - val_loss: 0.4527 - val_acc: 0.8748\n",
            "Epoch 24/30\n",
            "1875/1875 [==============================] - 7s 4ms/step - loss: 0.4685 - acc: 0.8748 - val_loss: 0.4619 - val_acc: 0.8770\n",
            "Epoch 25/30\n",
            "1875/1875 [==============================] - 8s 4ms/step - loss: 0.4629 - acc: 0.8754 - val_loss: 0.4515 - val_acc: 0.8799\n",
            "Epoch 26/30\n",
            "1875/1875 [==============================] - 8s 4ms/step - loss: 0.4520 - acc: 0.8791 - val_loss: 0.4301 - val_acc: 0.8840\n",
            "Epoch 27/30\n",
            "1875/1875 [==============================] - 7s 4ms/step - loss: 0.4515 - acc: 0.8785 - val_loss: 0.4250 - val_acc: 0.8887\n",
            "Epoch 28/30\n",
            "1875/1875 [==============================] - 8s 4ms/step - loss: 0.4671 - acc: 0.8729 - val_loss: 0.4205 - val_acc: 0.8892\n",
            "Epoch 29/30\n",
            "1875/1875 [==============================] - 7s 4ms/step - loss: 0.4484 - acc: 0.8794 - val_loss: 0.4581 - val_acc: 0.8719\n",
            "Epoch 30/30\n",
            "1875/1875 [==============================] - 8s 4ms/step - loss: 0.4514 - acc: 0.8794 - val_loss: 0.4167 - val_acc: 0.8913\n"
          ]
        },
        {
          "output_type": "execute_result",
          "data": {
            "text/plain": [
              "<keras.src.callbacks.History at 0x7ed6a570d540>"
            ]
          },
          "metadata": {},
          "execution_count": 19
        }
      ],
      "source": [
        "model2.fit(X_train, y_train, epochs=30,\n",
        "          validation_data=(X_test,y_test))"
      ]
    },
    {
      "cell_type": "code",
      "execution_count": null,
      "metadata": {
        "colab": {
          "background_save": true
        },
        "id": "cTOVrZA0SzPy"
      },
      "outputs": [],
      "source": [
        "model1.compile(loss='categorical_crossentropy',\n",
        "              optimizer='adam',\n",
        "              metrics=['acc'])"
      ]
    },
    {
      "cell_type": "code",
      "execution_count": null,
      "metadata": {
        "colab": {
          "background_save": true
        },
        "id": "GvUzyd89S0DS"
      },
      "outputs": [],
      "source": [
        "model1.fit(X_train, y_train, epochs=50,\n",
        "          validation_data=(X_test,y_test))"
      ]
    },
    {
      "cell_type": "code",
      "execution_count": null,
      "metadata": {
        "colab": {
          "background_save": true
        },
        "id": "UFiReqI1B2pn"
      },
      "outputs": [],
      "source": [
        "model2.compile(loss='categorical_crossentropy',\n",
        "              optimizer='adam',\n",
        "              metrics=['acc'])"
      ]
    },
    {
      "cell_type": "code",
      "execution_count": null,
      "metadata": {
        "colab": {
          "background_save": true
        },
        "id": "Oe52iesdC862"
      },
      "outputs": [],
      "source": [
        "model2.fit(X_train, y_train, epochs=50,\n",
        "          validation_data=(X_test,y_test))"
      ]
    },
    {
      "cell_type": "markdown",
      "metadata": {
        "id": "pDkA5_CKpJaU"
      },
      "source": [
        "According to the output above, we can see that the accuracy is increasing (both towards training and test data) in our 5-iteration training process. I think this result is pretty good because only with relatively simple Neural Network model we can obtain approximately 75% of accuracy, even though this result can still be improved.\n",
        "\n",
        "Now we can try to perform predictions on several images stored in our X_test variable."
      ]
    },
    {
      "cell_type": "code",
      "execution_count": null,
      "metadata": {
        "colab": {
          "base_uri": "https://localhost:8080/"
        },
        "id": "eiaxAdLmox2S",
        "outputId": "ec350a33-c0ea-463f-c118-eba75eb5d8bc"
      },
      "outputs": [
        {
          "output_type": "stream",
          "name": "stdout",
          "text": [
            "313/313 [==============================] - 1s 2ms/step\n",
            "[[2.58065702e-04 4.93344669e-06 2.09445301e-02 ... 9.54823196e-01\n",
            "  3.12202610e-04 1.66536514e-02]\n",
            " [2.78296135e-03 1.37824733e-02 9.23825800e-01 ... 3.21752019e-03\n",
            "  1.30213490e-02 1.14975475e-04]\n",
            " [2.58327276e-07 9.28827524e-01 2.80898507e-03 ... 6.49092981e-05\n",
            "  8.19277111e-03 7.96728884e-04]\n",
            " ...\n",
            " [3.99505116e-05 5.16627333e-04 6.18540822e-03 ... 7.24595739e-03\n",
            "  7.46097323e-03 6.49364516e-02]\n",
            " [6.43555541e-05 8.74585807e-02 1.76561729e-03 ... 5.21585316e-05\n",
            "  6.02440834e-02 6.93229213e-03]\n",
            " [1.36528292e-03 5.44890827e-06 1.70282181e-02 ... 1.88269075e-02\n",
            "  3.21200001e-04 4.43371432e-03]]\n"
          ]
        }
      ],
      "source": [
        "predictions = model.predict(X_test)\n",
        "print(predictions)"
      ]
    },
    {
      "cell_type": "markdown",
      "metadata": {
        "id": "4Pz_aCqrpTuc"
      },
      "source": [
        "So actually, this output shape is (10000, 10) in which it stores the classification probability value of each sample. Run the following code find out the actual prediction of the model:"
      ]
    },
    {
      "cell_type": "code",
      "execution_count": null,
      "metadata": {
        "colab": {
          "base_uri": "https://localhost:8080/"
        },
        "id": "5Vam1_pTpUxw",
        "outputId": "a446ead9-97a2-40f1-eaff-3860695a838c"
      },
      "outputs": [
        {
          "output_type": "stream",
          "name": "stdout",
          "text": [
            "[7 2 1 ... 4 5 6]\n"
          ]
        }
      ],
      "source": [
        "predictions = np.argmax(predictions, axis = 1)\n",
        "print(predictions)"
      ]
    },
    {
      "cell_type": "markdown",
      "metadata": {
        "id": "4WaqVhbjpgXL"
      },
      "source": [
        "Lastly, using the code below we can try to print some images along with its predictions:"
      ]
    },
    {
      "cell_type": "code",
      "execution_count": null,
      "metadata": {
        "colab": {
          "base_uri": "https://localhost:8080/",
          "height": 100
        },
        "id": "6SB1aS5xpdA9",
        "outputId": "ba81a607-809a-475f-b7c4-304f6164554f"
      },
      "outputs": [
        {
          "output_type": "display_data",
          "data": {
            "text/plain": [
              "<Figure size 2000x400 with 10 Axes>"
            ],
            "image/png": "[encoded data removed]"
          },
          "metadata": {}
        }
      ],
      "source": [
        "fig, axes = plt.subplots(ncols=10, sharex=False,\n",
        "                         sharey=True, figsize=(20, 4))\n",
        "for i in range(10):\n",
        "    axes[i].set_title(predictions[i])\n",
        "    axes[i].imshow(X_test[i], cmap='gray')\n",
        "    axes[i].get_xaxis().set_visible(False)\n",
        "    axes[i].get_yaxis().set_visible(False)\n",
        "plt.show()"
      ]
    },
    {
      "cell_type": "markdown",
      "metadata": {
        "id": "a3kIswEZpns_"
      },
      "source": [
        "The output image above shows the first 10 test images along with its predictions above each those digit images. You can see there that most of those handwritings are classified correctly. Only the 9th picture (from the left) is the misclassified sample as it should be a five (I think) but it is predicted as a four."
      ]
    }
  ],
  "metadata": {
    "accelerator": "GPU",
    "colab": {
      "gpuType": "T4",
      "provenance": []
    },
    "kernelspec": {
      "display_name": "Python 3",
      "name": "python3"
    },
    "language_info": {
      "name": "python"
    }
  },
  "nbformat": 4,
  "nbformat_minor": 0
}