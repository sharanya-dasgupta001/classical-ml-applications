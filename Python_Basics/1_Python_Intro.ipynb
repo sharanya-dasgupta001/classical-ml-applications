{
  "cells": [
    {
      "cell_type": "markdown",
      "metadata": {
        "id": "3W3p6VXoK9un"
      },
      "source": [
        "<h1 style=\"font-family : sans\" align=\"center\" ><b>Starting With Python</b>\n",
        "<img width=\"50\" src= \"https://static.vecteezy.com/system/resources/previews/012/697/295/original/3d-python-programming-language-logo-free-png.png\" align = \"right\"></h1>\n",
        "<hr>\n",
        "<p style=\"color:#784212;text-align:center;font-size:125%\"; align=\"center\"><i> Arghya Pratihar (Junior Research Fellow, ISI Kolkata)</i></p>\n",
        "<p style=\"color:#784212;text-align:center;font-size:110%\"; align=\"center\"><b>Indian Statistical Institute, Kolkata</b></p>\n",
        "<hr>"
      ]
    },
    {
      "cell_type": "markdown",
      "metadata": {
        "id": "2s0vuig5K9ut"
      },
      "source": [
        "<h2 align=\"left\"><b>1. Why Python?</b></h2>\n",
        "<ol type = \"a\">\n",
        "<li>Easy to learn, general purpose, powerful programming language</li>\n",
        "<li>Efficient high-level data structures</li>\n",
        "<li>Simple but effective approach to object-oriented programming</li>\n",
        "<li>Extensive standard libraries: freely available and open source</li>\n",
        "<li>Easy integration of C and C++ codes</li>\n",
        "<li>Various use cases integration (e.g. Website Development, <br>Machine Learning, Visualisation / Plotting)\n",
        "</ol>"
      ]
    },
    {
      "cell_type": "markdown",
      "metadata": {
        "id": "wfN3BPLUK9uu"
      },
      "source": [
        "<h2 align=\"left\"><b>2. How to install Python?</b></h2>\n",
        "<h3 align=\"left\"><u>2.1. Choosing Suitable Python Version</u></h3>\n",
        "<p style=\"font-size:17px\">\n",
        "a. <a href=\"https://www.python.org/\"> Python 3.8+</a><br>\n",
        "b. <a href=\"https://ipython.org/\"> IPython</a><br>\n",
        "c. Latest Version:\n",
        "\n",
        "\n",
        "*   Windows - > 3.12.1\n",
        "*   Ubuntu - > 3.11 ( 3.10 / 3.8 Pre-installed)\n",
        "*   MAC - > 3.11.1\n",
        "\n",
        "\n",
        "</p>\n",
        "<h3 align=\"left\"><u>2.2. Popular Python Editors</u></h3>\n",
        "<p style=\"font-size:17px\">\n",
        "a. <a href=\"https://jupyter.org/\"> Jupyter Notebook </a><br>\n",
        "b. <a href=\"https://www.spyder-ide.org/\"> Spyder </a><br>\n",
        "c. <a href=\"https://www.jetbrains.com/pycharm/\"> PyCharm </a><br>\n",
        "d. <a href=\"https://colab.research.google.com/\"> Google Colab </a><i>(GPU, TPU integration)</i><br>\n",
        "e. <a href=\"https://jupyter.org/\"> VS Code with Python Extension</a><br>\n",
        "</p>\n",
        "<h3 align=\"left\"><u>2.3. A Compact Python Distribution</u></h3>\n",
        "<p style=\"font-size:17px\">\n",
        "Anaconda Distribution: IDE <br>\n",
        "with a Package Manager (Conda) and Python Interpreter <i>(https://www.anaconda.com/)</i>\n",
        "</p>\n",
        "<h3 align=\"left\">2.4 Package Installation</h3>\n",
        "<p style=\"font-size:17px\">\n",
        "Run the following commands in Terminal (Linux) or in command prompt (Windows):<br>\n",
        "\n",
        "a. `conda install package_name` (for anaconda distribution) <br>\n",
        "b. `pip install 'package_name'`</b> (for python distribution)<br>\n",
        "c. `pip3 install 'package_name'` (for python 3.* distribution)<br>\n",
        "</p>"
      ]
    },
    {
      "cell_type": "markdown",
      "metadata": {
        "id": "3IkSOcpMK9uv"
      },
      "source": [
        "<h2 align=\"left\"><b>3. What are Some Popular Packages in Python?</b></h2>\n",
        "<p style=\"font-size:17px\">\n",
        "\n",
        "a. <b> `NumPy` </b> Numerical computing and routines with powerful numerical arrays objects <br>\n",
        "b. <b>`SciPy` </b> High-level numerical routines, optimization, regression, interpolation, etc  <br>\n",
        "c. <b> `os` </b> Path, directory access, System Command<br>\n",
        "d. <b>`SymPy`</b> Symbolic computing - algebric manipulations, calculus, solving equations, etc <br>\n",
        "e. <b>`Matplotlib` / `Mayavi` (for  3D):</b> Data visualization (plotting) <br>\n",
        "f. <b>`Pillow` / `Scikit-image` / `OpenCV` </b> Image processing <br>\n",
        "g. <b>`SciKit-learn` </b> Machine learning <br>\n",
        "h. <b>`Pandas` / `Statsmodels` / `Seaborn`</b> Statistics <br>\n",
        "i. <b>`Pytorch` / `Tensorflow`</b> Deep learning <br>\n",
        "j. <b>`nltk`</b> Natural language processing <br>\n",
        "k. <b>`Streamlit` / `wxPython` / `pyQT`</b> GUI toolkit <br>\n",
        "l. <b> `Flask` </b> Local Server Connetion Toolkit <br>\n",
        "m. <b>`BeautifulSoup`</b> Web scraping\n",
        "</p>"
      ]
    },
    {
      "cell_type": "markdown",
      "metadata": {
        "id": "MMtdZyYhK9uw"
      },
      "source": [
        "<h2 align=\"left\"><b>4. References</b></h2>\n",
        "<p style=\"font-size:17px\">\n",
        "\n",
        "a. https://www.scipy-lectures.org/intro/intro.html <br>\n",
        "b. https://docs.python.org/2.7/tutorial/<br>\n",
        "c. http://jupyter-notebook.readthedocs.io/en/stable/index.html <br>\n",
        "d. https://pythontips.com/2013/07/30/20-python-libraries-you-cant-live-without/<br> e. https://activewizards.com/blog/top-15-libraries-for-data-science-in-python/<br>\n",
        "f. https://colab.research.google.com/notebooks/markdown_guide.ipynb<br>\n",
        "</p>"
      ]
    }
  ],
  "metadata": {
    "kernelspec": {
      "display_name": "Python 3",
      "language": "python",
      "name": "python3"
    },
    "language_info": {
      "codemirror_mode": {
        "name": "ipython",
        "version": 3
      },
      "file_extension": ".py",
      "mimetype": "text/x-python",
      "name": "python",
      "nbconvert_exporter": "python",
      "pygments_lexer": "ipython3",
      "version": "3.8.8"
    },
    "colab": {
      "provenance": []
    }
  },
  "nbformat": 4,
  "nbformat_minor": 0
}