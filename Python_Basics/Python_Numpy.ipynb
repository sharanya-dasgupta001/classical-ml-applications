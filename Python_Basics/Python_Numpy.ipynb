{
  "cells": [
    {
      "cell_type": "markdown",
      "metadata": {
        "id": "wI2J7w8Ag5Mk"
      },
      "source": [
        "## Numpy\n",
        "\n",
        "\n",
        "\n",
        "<ol>\n",
        "  <li>NumPy is a general-purpose array-processing library.</li>\n",
        "  <li><b>POWERFUL N-DIMENSIONAL ARRAYS:</b> It provides a high-performance multidimensional array object, and tools for working with these arrays.</li>\n",
        "  <li><b>NUMERICAL COMPUTING TOOLS:</b> NumPy offers comprehensive mathematical functions, random number generators, linear algebra routines and more. </li>\n",
        "   <li> <b>EASY TO USE:</b> NumPy’s high level syntax makes it accessible and productive for programmers from any background or experience level.</li>\n",
        "   <li><b>OPEN SOURCE:</b>  NumPy is developed and maintained publicly on GitHub by a diverse community.\n",
        " </li>\n",
        "\n",
        "</ol>\n",
        "\n",
        "\n",
        "\n"
      ]
    },
    {
      "cell_type": "markdown",
      "metadata": {
        "id": "twSMIkkdp3yP"
      },
      "source": [
        "## 1. Import library\n",
        "we use a shorthand name ``np`` for NumPy."
      ]
    },
    {
      "cell_type": "code",
      "execution_count": 18,
      "metadata": {
        "id": "Hj4WWtDai-eO"
      },
      "outputs": [],
      "source": [
        "# import and abbreviation\n",
        "import numpy as np"
      ]
    },
    {
      "cell_type": "code",
      "execution_count": 19,
      "metadata": {
        "colab": {
          "base_uri": "https://localhost:8080/"
        },
        "id": "giCptACNa9YH",
        "outputId": "4a9d7058-d8d5-4143-8d15-fb48c3de3349"
      },
      "outputs": [
        {
          "output_type": "stream",
          "name": "stdout",
          "text": [
            "1.21.6\n"
          ]
        }
      ],
      "source": [
        "print(np.__version__)"
      ]
    },
    {
      "cell_type": "markdown",
      "metadata": {
        "id": "NWKzKWSwa9YI"
      },
      "source": [
        "## 2. Single-dimensional arrays, behave similar to row vectors"
      ]
    },
    {
      "cell_type": "code",
      "execution_count": 20,
      "metadata": {
        "colab": {
          "base_uri": "https://localhost:8080/"
        },
        "id": "fVeuWE5Wa9YJ",
        "outputId": "7aad99fc-e04b-487e-b45c-da6df0ed836c"
      },
      "outputs": [
        {
          "output_type": "stream",
          "name": "stdout",
          "text": [
            "x = [1 2 3 4 5]\n",
            "type(x) = <class 'numpy.ndarray'>\n"
          ]
        }
      ],
      "source": [
        "x = np.array([1,2,3,4,5])\n",
        "# x = np.array({1,2,3,4,5})\n",
        "\n",
        "\n",
        "print('x =', x)\n",
        "print('type(x) =', type(x))\n"
      ]
    },
    {
      "cell_type": "code",
      "execution_count": 21,
      "metadata": {
        "colab": {
          "base_uri": "https://localhost:8080/"
        },
        "id": "at8omuqXa9YK",
        "outputId": "019c5156-38f4-48ed-f290-4bbd4d70122f"
      },
      "outputs": [
        {
          "output_type": "stream",
          "name": "stdout",
          "text": [
            "x = [1 2 3 4 5]\n",
            "y = [ 6  7  8  9 10]\n",
            "z = [ 2  4  6  8 10]\n"
          ]
        }
      ],
      "source": [
        "print('x =', x)\n",
        "\n",
        "y = x + 5\n",
        "print('y =', y)\n",
        "\n",
        "z = x * 2\n",
        "print('z =', z)"
      ]
    },
    {
      "cell_type": "markdown",
      "metadata": {
        "id": "0VcALgIla9YL"
      },
      "source": [
        "## 3. Matrices: Two-dimensional arrays"
      ]
    },
    {
      "cell_type": "code",
      "execution_count": 22,
      "metadata": {
        "colab": {
          "base_uri": "https://localhost:8080/"
        },
        "id": "iT1b6fAMa9YL",
        "outputId": "73d53e15-b903-4444-df67-7ae40ee4af90"
      },
      "outputs": [
        {
          "output_type": "stream",
          "name": "stdout",
          "text": [
            "[[1 2 3]\n",
            " [4 5 6]\n",
            " [7 8 9]]\n"
          ]
        }
      ],
      "source": [
        "A = np.array([[1, 2, 3], [4, 5, 6], [7, 8, 9]])\n",
        "\n",
        "print(A)"
      ]
    },
    {
      "cell_type": "code",
      "execution_count": 23,
      "metadata": {
        "colab": {
          "base_uri": "https://localhost:8080/"
        },
        "id": "XVRFQXa_a9YM",
        "outputId": "f78b5eba-4ea4-403b-bc72-079d134bc4c5"
      },
      "outputs": [
        {
          "output_type": "stream",
          "name": "stdout",
          "text": [
            "[[1 2 3]\n",
            " [4 5 6]\n",
            " [7 8 9]]\n",
            "[[11 12 13]\n",
            " [14 15 16]\n",
            " [17 18 19]]\n"
          ]
        }
      ],
      "source": [
        "print(A)\n",
        "C = A + 10\n",
        "print(C)\n",
        "\n",
        "# print('')\n",
        "\n",
        "# D = A * 3\n",
        "# print(D)"
      ]
    },
    {
      "cell_type": "code",
      "execution_count": 24,
      "metadata": {
        "colab": {
          "base_uri": "https://localhost:8080/"
        },
        "id": "N_cYUr2aa9YO",
        "outputId": "80ae64c7-8e49-4695-9e5b-fb2c2e23e737"
      },
      "outputs": [
        {
          "output_type": "stream",
          "name": "stdout",
          "text": [
            "14\n"
          ]
        }
      ],
      "source": [
        "x = np.array([1, 2, 3])\n",
        "\n",
        "y = np.array([1, 2, 3])\n",
        "\n",
        "dot_product = np.dot(x, y)\n",
        "\n",
        "print(dot_product)"
      ]
    },
    {
      "cell_type": "markdown",
      "metadata": {
        "id": "edxJBfP3a9YP"
      },
      "source": [
        "## 4. Random matrices"
      ]
    },
    {
      "cell_type": "code",
      "execution_count": 25,
      "metadata": {
        "colab": {
          "base_uri": "https://localhost:8080/"
        },
        "id": "UZHnqXj6a9YP",
        "outputId": "6dabb975-7d58-4791-b4be-7602a575007f"
      },
      "outputs": [
        {
          "output_type": "stream",
          "name": "stdout",
          "text": [
            "[[0.56390866 0.59194522 0.35690955]\n",
            " [0.91108893 0.76704715 0.31035961]\n",
            " [0.63959894 0.51228947 0.15025405]\n",
            " [0.24878165 0.08896742 0.22760548]\n",
            " [0.45442904 0.97382319 0.24477284]]\n",
            "\n",
            "[0.22810954 0.68545166 0.78869882 0.48446242 0.26726486]\n",
            "\n",
            "\n",
            "[[8 9]\n",
            " [6 7]]\n",
            "[[9 5 3 9 3]\n",
            " [9 5 7 7 3]\n",
            " [7 9 9 3 5]]\n"
          ]
        }
      ],
      "source": [
        "A = np.random.rand(5,3)\n",
        "print(A)\n",
        "\n",
        "print('')\n",
        "\n",
        "x = np.random.rand(5)\n",
        "print(x)\n",
        "\n",
        "print('\\n')\n",
        "\n",
        "x = np.random.randint(5,10,[2,2])\n",
        "print(x)\n",
        "\n",
        "x = np.random.choice([3, 5, 7, 9], size=(3, 5))\n",
        "\n",
        "print(x)\n"
      ]
    },
    {
      "cell_type": "markdown",
      "metadata": {
        "id": "7-YQzKlJa9YQ"
      },
      "source": [
        "## 5. Reshaping matrices"
      ]
    },
    {
      "cell_type": "code",
      "execution_count": 41,
      "metadata": {
        "colab": {
          "base_uri": "https://localhost:8080/"
        },
        "id": "cpCcG2z8a9YQ",
        "outputId": "ab482114-1347-40b6-c4c1-87e073738a45"
      },
      "outputs": [
        {
          "output_type": "stream",
          "name": "stdout",
          "text": [
            "[[0.20248811 0.26406037 0.25504038 0.19629949]\n",
            " [0.00725479 0.92033638 0.45884953 0.2169795 ]\n",
            " [0.78506454 0.74283383 0.61834685 0.07149632]\n",
            " [0.8394794  0.47034524 0.7183622  0.27162116]\n",
            " [0.60675605 0.52686939 0.90783832 0.85650493]]\n",
            "\n",
            "[[0.20248811 0.26406037]\n",
            " [0.25504038 0.19629949]\n",
            " [0.00725479 0.92033638]\n",
            " [0.45884953 0.2169795 ]\n",
            " [0.78506454 0.74283383]\n",
            " [0.61834685 0.07149632]\n",
            " [0.8394794  0.47034524]\n",
            " [0.7183622  0.27162116]\n",
            " [0.60675605 0.52686939]\n",
            " [0.90783832 0.85650493]]\n"
          ]
        }
      ],
      "source": [
        "x = np.random.rand(5,4)\n",
        "print(x)\n",
        "\n",
        "print('')\n",
        "\n",
        "y = np.reshape(x,(10,2))\n",
        "print(y)"
      ]
    },
    {
      "cell_type": "markdown",
      "source": [
        "## 5.1. Numpy broadcasting\n",
        "\n",
        "\n",
        "*   The term broadcasting describes how NumPy treats arrays with different shapes during arithmetic operations.\n",
        "*   Subject to certain constraints, the smaller array is “broadcast” across the larger array so that they have compatible shapes.\n",
        "*   Broadcasting provides a means of vectorizing array operations so that looping occurs in C instead of Python.\n",
        "*   It does this without making needless copies of data and usually leads to efficient algorithm implementations.\n",
        "*   There are, however, cases where broadcasting is a bad idea because it leads to inefficient use of memory that slows computation.\n",
        "*   NumPy operations are usually done on pairs of arrays on an element-by-element basis. In the simplest case, the two arrays must have exactly the same shape, as in the following example:"
      ],
      "metadata": {
        "id": "i0KWUVDxaA-n"
      }
    },
    {
      "cell_type": "code",
      "source": [
        "a = np.array([1.0, 2.0, 3.0])\n",
        "b = np.array([2.0, 2.0, 2.0])\n",
        "a * b"
      ],
      "metadata": {
        "id": "sIRCKkv4Z4ZH",
        "colab": {
          "base_uri": "https://localhost:8080/"
        },
        "outputId": "47f4e2a9-760f-4771-8b66-ab5149dc7ef8"
      },
      "execution_count": 27,
      "outputs": [
        {
          "output_type": "execute_result",
          "data": {
            "text/plain": [
              "array([2., 4., 6.])"
            ]
          },
          "metadata": {},
          "execution_count": 27
        }
      ]
    },
    {
      "cell_type": "markdown",
      "source": [
        "NumPy’s broadcasting rule relaxes this constraint when the arrays’ shapes meet certain constraints. The simplest broadcasting example occurs when an array and a scalar value are combined in an operation:"
      ],
      "metadata": {
        "id": "4WsllR7FZ9OT"
      }
    },
    {
      "cell_type": "code",
      "source": [
        "a = np.array([1.0, 2.0, 3.0])\n",
        "b = 2.0\n",
        "print(a * b)\n",
        "# print(a + b) #The broadcasting concept is valid for arithmatic operations\n"
      ],
      "metadata": {
        "id": "xqrv4JSSaERr",
        "colab": {
          "base_uri": "https://localhost:8080/"
        },
        "outputId": "59558710-6f8d-419f-bac5-e7b57b215ade"
      },
      "execution_count": 36,
      "outputs": [
        {
          "output_type": "stream",
          "name": "stdout",
          "text": [
            "[2. 4. 6.]\n"
          ]
        }
      ]
    },
    {
      "cell_type": "markdown",
      "source": [
        "The result is equivalent to the previous example where b was an array. We can think of the scalar b being stretched during the arithmetic operation into an array with the same shape as a. The new elements in b, as shown in Figure below, are simply copies of the original scalar. The stretching analogy is only conceptual. NumPy is smart enough to use the original scalar value without actually making copies so that broadcasting operations are as memory and computationally efficient as possible.\n",
        "\n",
        "A scalar is broadcast to match the shape of the 1-d array it is being multiplied to.\n",
        "![image.png](data:image/png;base64,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)\n",
        "\n",
        "In the simplest example of broadcasting, the scalar b is stretched to become an array of same shape as a so the shapes are compatible for element-by-element multiplication.\n",
        "\n",
        "The code in the second example is more efficient than that in the first because broadcasting moves less memory around during the multiplication (b is a scalar rather than an array).\n",
        "\n",
        "## General Broadcasting Rules\n",
        "\n",
        "When operating on two arrays, NumPy compares their shapes element-wise. It starts with the trailing (i.e. rightmost) dimension and works its way left. Two dimensions are compatible when\n",
        "\n",
        "\n",
        "\n",
        "1.   they are equal, or\n",
        "2.   one of them is 1.\n",
        "\n",
        "\n",
        "If these conditions are not met, a `ValueError: operands could not be broadcast together` exception is thrown, indicating that the arrays have incompatible shapes.\n",
        "\n",
        "Input arrays do not need to have the same number of dimensions. The resulting array will have the same number of dimensions as the input array with the greatest number of dimensions, where the size of each dimension is the largest size of the corresponding dimension among the input arrays. Note that missing dimensions are assumed to have size one.\n",
        "\n",
        "\n",
        "\n",
        "*   A      (4d array):  8 x 1 x 6 x 1\n",
        "*   B      (3d array):      7 x 1 x 5\n",
        "*   Result (4d array):  8 x 7 x 6 x 5\n",
        "\n",
        "\n",
        "\n",
        "*   A      (2d array):  5 x 4\n",
        "*   B      (1d array):      1\n",
        "*   Result (2d array):  5 x 4\n",
        "\n",
        "*   A      (2d array):  5 x 4\n",
        "*   B      (1d array):      1\n",
        "*   Result (2d array):  5 x 4\n",
        "\n",
        "*   A      (2d array):  5 x 4\n",
        "*   B      (1d array):      4\n",
        "*   Result (2d array):  5 x 4\n",
        "\n",
        "*   A      (3d array):  15 x 3 x 5\n",
        "*   B      (3d array):  15 x 1 x 5\n",
        "*   Result (3d array):  15 x 3 x 5\n",
        "\n",
        "*   A      (3d array):  15 x 3 x 5\n",
        "*   B      (2d array):       3 x 5\n",
        "*   Result (3d array):  15 x 3 x 5\n",
        "\n",
        "*   A      (3d array):  15 x 3 x 5\n",
        "*   B      (2d array):       3 x 1\n",
        "*   Result (3d array):  15 x 3 x 5\n",
        "\n",
        "Here are examples of shapes that do not broadcast:\n",
        "\n",
        "*   A      (1d array):  3\n",
        "*   B      (1d array):  4 # trailing dimensions do not match\n",
        "\n",
        "*   A      (2d array):      2 x 1\n",
        "*   B      (3d array):  8 x 4 x 3 # second from last dimensions mismatched"
      ],
      "metadata": {
        "id": "e0Esmd1WaHZr"
      }
    },
    {
      "cell_type": "markdown",
      "source": [
        "![image.png](data:image/png;base64,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)\n",
        "\n",
        "When the trailing dimensions of the arrays are unequal, broadcasting fails because it is impossible to align the values in the rows of the 1st array with the elements of the 2nd arrays for element-by-element addition."
      ],
      "metadata": {
        "id": "rpfoCQlrbPpE"
      }
    },
    {
      "cell_type": "markdown",
      "source": [
        "Broadcasting is a powerful tool for writing short and usually intuitive code that does its computations very efficiently in C. However, there are cases when broadcasting uses unnecessarily large amounts of memory for a particular algorithm. In these cases, it is better to write the algorithm’s outer loop in Python. This may also produce more readable code, as algorithms that use broadcasting tend to become more difficult to interpret as the number of dimensions in the broadcast increases"
      ],
      "metadata": {
        "id": "FwlemQ7zbdfL"
      }
    },
    {
      "cell_type": "code",
      "execution_count": 29,
      "metadata": {
        "colab": {
          "base_uri": "https://localhost:8080/"
        },
        "id": "Kj4cgKpza9YR",
        "outputId": "f99038eb-4411-4c1c-f52d-0f39f5c9cc01"
      },
      "outputs": [
        {
          "output_type": "stream",
          "name": "stdout",
          "text": [
            "[[0.44824208 0.39964602 0.48669222]\n",
            " [0.32570431 0.3322307  0.95457794]\n",
            " [0.47456858 0.92718402 0.19478696]\n",
            " [0.72229315 0.16437049 0.94689045]\n",
            " [0.50690991 0.43167603 0.22741166]]\n",
            "\n",
            "[0.71411509 0.16677126 0.45822528 0.90094674 0.03415244]\n",
            "[[0.71411509]\n",
            " [0.16677126]\n",
            " [0.45822528]\n",
            " [0.90094674]\n",
            " [0.03415244]]\n",
            "[[1.16235717 1.11376111 1.20080731]\n",
            " [0.49247557 0.49900197 1.1213492 ]\n",
            " [0.93279386 1.3854093  0.65301224]\n",
            " [1.62323989 1.06531723 1.84783719]\n",
            " [0.54106235 0.46582847 0.2615641 ]]\n"
          ]
        }
      ],
      "source": [
        "A = np.random.rand(5,3)\n",
        "print(A)\n",
        "\n",
        "print('')\n",
        "\n",
        "x = np.random.rand(5)\n",
        "print(x)\n",
        "\n",
        "#Will not work\n",
        "# print(A + x)\n",
        "\n",
        "y = np.reshape(x,(5,1))\n",
        "print(y)\n",
        "\n",
        "# print('')\n",
        "\n",
        "print(A + y)"
      ]
    },
    {
      "cell_type": "markdown",
      "metadata": {
        "id": "0ofFIQf4a9YS"
      },
      "source": [
        "## 6. Dimension and shape of numpy arrays"
      ]
    },
    {
      "cell_type": "code",
      "execution_count": 30,
      "metadata": {
        "colab": {
          "base_uri": "https://localhost:8080/"
        },
        "id": "V3C2HZqWa9YS",
        "outputId": "1b029fec-c171-46c2-bee2-65b88d112263"
      },
      "outputs": [
        {
          "output_type": "stream",
          "name": "stdout",
          "text": [
            "2\n",
            "(5, 3)\n",
            "\n",
            "1\n",
            "(5,)\n"
          ]
        }
      ],
      "source": [
        "A = np.random.rand(5,3)\n",
        "print(A.ndim) #number of dimensions of the array/matrix \n",
        "print(A.shape)#dimensions of the array/matrix \n",
        "\n",
        "print('')\n",
        "\n",
        "x = np.random.rand(5)\n",
        "print(x.ndim)#number of dimensions of the array/matrix \n",
        "print(x.shape)#dimensions of the array/matrix "
      ]
    },
    {
      "cell_type": "markdown",
      "metadata": {
        "id": "H7hUvzj1a9YT"
      },
      "source": [
        "## 7. Special Matrices"
      ]
    },
    {
      "cell_type": "code",
      "execution_count": 37,
      "metadata": {
        "colab": {
          "base_uri": "https://localhost:8080/"
        },
        "id": "FRN-Jkxoa9YT",
        "outputId": "6e7ed8b3-96ad-44ec-b0a8-5ab33ff21a86"
      },
      "outputs": [
        {
          "output_type": "stream",
          "name": "stdout",
          "text": [
            "[[0. 0.]\n",
            " [0. 0.]\n",
            " [0. 0.]]\n",
            "\n",
            "[[4.5 4.5 4.5]\n",
            " [4.5 4.5 4.5]]\n",
            "\n",
            "[[1. 0. 0.]\n",
            " [0. 1. 0.]\n",
            " [0. 0. 1.]]\n"
          ]
        }
      ],
      "source": [
        "print(np.zeros((3,2)))\n",
        "\n",
        "print('')\n",
        "\n",
        "print(4.5*np.ones((2,3)))\n",
        "\n",
        "print('')\n",
        "\n",
        "print(np.eye(3))"
      ]
    },
    {
      "cell_type": "code",
      "execution_count": 32,
      "metadata": {
        "colab": {
          "base_uri": "https://localhost:8080/"
        },
        "id": "lciOZ1y0a9YT",
        "outputId": "0ccd274c-4c24-4eae-83b8-805f85cc2879"
      },
      "outputs": [
        {
          "output_type": "stream",
          "name": "stdout",
          "text": [
            "[0 1 2 3 4 5 6 7 8]\n",
            "[ 9 10 11 12 13]\n",
            "[ 9 11 13]\n"
          ]
        }
      ],
      "source": [
        "A = np.arange(9) # Return evenly spaced values within a given interval.\n",
        "print(A)\n",
        "\n",
        "A = np.arange(9,14) # Return evenly spaced values within a given interval.\n",
        "print(A)\n",
        "\n",
        "A = np.arange(9,14,2) # Return evenly spaced values within a given interval.\n",
        "print(A)"
      ]
    },
    {
      "cell_type": "code",
      "execution_count": 33,
      "metadata": {
        "colab": {
          "base_uri": "https://localhost:8080/"
        },
        "id": "9A05FWBea9YU",
        "outputId": "d141aef3-e3fb-49ec-9ec6-b6af9eb3cba5"
      },
      "outputs": [
        {
          "output_type": "stream",
          "name": "stdout",
          "text": [
            "[[0 1 2]\n",
            " [3 4 5]\n",
            " [6 7 8]]\n"
          ]
        }
      ],
      "source": [
        "A = np.arange(9)\n",
        "B = np.reshape(A, (3,3))\n",
        "\n",
        "print(B)"
      ]
    },
    {
      "cell_type": "markdown",
      "metadata": {
        "id": "A_4wcbYVa9YU"
      },
      "source": [
        "## 8. Numpy array operations: max, argmax, min, argmin, sort, argsort"
      ]
    },
    {
      "cell_type": "code",
      "execution_count": 34,
      "metadata": {
        "colab": {
          "base_uri": "https://localhost:8080/"
        },
        "id": "-CUDN0_za9YU",
        "outputId": "c2705eee-59b4-481b-983e-26029bbeb3a9"
      },
      "outputs": [
        {
          "output_type": "stream",
          "name": "stdout",
          "text": [
            "9\n",
            "6\n",
            "\n",
            "1\n",
            "2\n",
            "np.sort(x) [1 2 3 4 5 6 7 8 9]\n",
            "[5 4 1 8 7 3 9 2 6]\n",
            "np.argsort(x) [2 7 5 1 0 8 4 3 6]\n"
          ]
        }
      ],
      "source": [
        "x = np.array([5,4,1,8,7,3,9,2,6])\n",
        "\n",
        "print(np.max(x))#value of the maximum element\n",
        "print(np.argmax(x)) #index of the maximum element\n",
        "\n",
        "print('')\n",
        "print(np.min(x))\n",
        "print(np.argmin(x))\n",
        "\n",
        "# print('')\n",
        "# x=np.sort(x)\n",
        "print(\"np.sort(x)\",np.sort(x))\n",
        "print(x)\n",
        "print(\"np.argsort(x)\",np.argsort(x))"
      ]
    },
    {
      "cell_type": "markdown",
      "metadata": {
        "id": "GuKaLccta9YV"
      },
      "source": [
        "# 9. Boolean Element-Wise Operations"
      ]
    },
    {
      "cell_type": "code",
      "execution_count": 35,
      "metadata": {
        "colab": {
          "base_uri": "https://localhost:8080/"
        },
        "id": "waERxd3ha9YW",
        "outputId": "65bbaee8-b4cf-4edf-8ac0-f1cb4845f0c0"
      },
      "outputs": [
        {
          "output_type": "stream",
          "name": "stdout",
          "text": [
            "[[0.43931204 0.17489531 0.53220461]\n",
            " [0.74942117 0.23284761 0.51456763]\n",
            " [0.15420391 0.69762341 0.28108812]]\n",
            "[[False False  True]\n",
            " [ True False  True]\n",
            " [False  True False]]\n"
          ]
        }
      ],
      "source": [
        "x = np.random.rand(3,3)\n",
        "print(x)\n",
        "\n",
        "print(x>0.5)"
      ]
    },
    {
      "cell_type": "code",
      "source": [],
      "metadata": {
        "id": "7REKZXHP-tU0"
      },
      "execution_count": null,
      "outputs": []
    },
    {
      "cell_type": "markdown",
      "metadata": {
        "id": "oF4x419Ea9YX"
      },
      "source": [
        "## References\n",
        "\n",
        "<a href=\"https://numpy.org/doc/stable/user/index.html\">a)  Numpy documentation</a>"
      ]
    }
  ],
  "metadata": {
    "colab": {
      "provenance": []
    },
    "kernelspec": {
      "display_name": "Python 3",
      "language": "python",
      "name": "python3"
    },
    "language_info": {
      "codemirror_mode": {
        "name": "ipython",
        "version": 3
      },
      "file_extension": ".py",
      "mimetype": "text/x-python",
      "name": "python",
      "nbconvert_exporter": "python",
      "pygments_lexer": "ipython3",
      "version": "3.8.5"
    }
  },
  "nbformat": 4,
  "nbformat_minor": 0
}