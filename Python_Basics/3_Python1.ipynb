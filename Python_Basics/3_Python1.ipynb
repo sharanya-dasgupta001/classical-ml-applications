{
  "cells": [
    {
      "cell_type": "markdown",
      "metadata": {
        "id": "92173Rr4L7ID"
      },
      "source": [
        "<h1 style=\"font-family : sans\" align=\"center\" ><b>Python Basics</b>\n",
        " <img width=\"50\" src= \"https://static.vecteezy.com/system/resources/previews/012/697/295/original/3d-python-programming-language-logo-free-png.png\" align = \"right\"> </h1>\n",
        "<hr>\n",
        "<p style=\"color:#784212;text-align:center;font-size:125%\"; align=\"center\"><i> Arghya Pratihar (Junior Research Fellow, ISI Kolkata)</i></p>\n",
        "<p style=\"color:#784212;text-align:center;font-size:110%\"; align=\"center\"><b>Indian Statistical Institute, Kolkata</b></p>\n",
        "<hr>"
      ]
    },
    {
      "cell_type": "markdown",
      "metadata": {
        "id": "2QjaM6OQL7IK"
      },
      "source": [
        "<h2 align=\"left\"><u>What are Conditional statements?</u> if-elif-else</h2>"
      ]
    },
    {
      "cell_type": "raw",
      "metadata": {
        "id": "mxo4omqKL7IL"
      },
      "source": [
        "\n",
        "```\n",
        "#If-else block\n",
        "If (this):\n",
        "    do this\n",
        "else:\n",
        "    do this\n",
        "\n",
        "```\n",
        "\n",
        "```\n",
        "#Nested if-else block\n",
        "If (this):\n",
        "    do task A\n",
        "Else if (this):\n",
        "    do task B\n",
        "Else if (this):\n",
        "    do task C\n",
        "Else:\n",
        "    do task D\n",
        "\n",
        "```\n",
        "\n",
        "```\n",
        "#Nested Else-if\n",
        "If this happens:\n",
        "    If this happens:\n",
        "         If this happens:\n",
        "            what is the result?\n",
        "         Else:\n",
        "             what is the result?\n",
        "    Else:\n",
        "         what is the result?\n",
        "Else:\n",
        "     what is the result?\n",
        "```"
      ]
    },
    {
      "cell_type": "code",
      "execution_count": null,
      "metadata": {
        "id": "D4LXjyBBL7IM"
      },
      "outputs": [],
      "source": [
        "# General structure\n",
        "\n",
        "# if condition1:\n",
        "#     statement(s1)\n",
        "\n",
        "# elif condition2:\n",
        "#     statement(s2)\n",
        "\n",
        "# elif condition3:\n",
        "#     statement(s3)\n",
        "\n",
        "# ...\n",
        "\n",
        "# elif conditionN:\n",
        "#     statement(sN)\n",
        "\n",
        "# else:\n",
        "#     statement(s)"
      ]
    },
    {
      "cell_type": "code",
      "execution_count": null,
      "metadata": {
        "id": "wafSSFYDL7IN",
        "outputId": "82338a95-dfce-4357-bfe9-b79febaca4fb",
        "colab": {
          "base_uri": "https://localhost:8080/"
        }
      },
      "outputs": [
        {
          "output_type": "stream",
          "name": "stdout",
          "text": [
            "a1 and a2 are equal\n"
          ]
        }
      ],
      "source": [
        "a1 = 7\n",
        "a2 = 7\n",
        "\n",
        "if a1 > a2:\n",
        "    print('a1 is greater')\n",
        "elif a1 < a2:\n",
        "    print('a2 is greater')\n",
        "else:\n",
        "    print('a1 and a2 are equal')"
      ]
    },
    {
      "cell_type": "code",
      "source": [
        "inp_1 = 123\n",
        "inp_2 = 321\n",
        "\n",
        "if inp_1 == inp_2:\n",
        "  print(\"both strings are equal\")\n",
        "else:\n",
        "  if inp_1 < inp_2:\n",
        "    print(\"inp_2 is greater than inp_1 with a difference \", inp_2 - inp_1)\n",
        "  else:\n",
        "    print(\"inp_2 is smaller than inp_1 with a difference \", inp_1 - inp_2)"
      ],
      "metadata": {
        "id": "osG24FTPWE4O",
        "colab": {
          "base_uri": "https://localhost:8080/"
        },
        "outputId": "b0a51df2-6059-476e-da8e-9a12c4534ec1"
      },
      "execution_count": null,
      "outputs": [
        {
          "output_type": "stream",
          "name": "stdout",
          "text": [
            "inp_2 is greater than inp_1 with a difference  198\n"
          ]
        }
      ]
    },
    {
      "cell_type": "markdown",
      "metadata": {
        "id": "m_6UycznL7IP"
      },
      "source": [
        "<p> <b>Exercise 1: </b> Write a program that takes an integer as input, and prints whether the number is odd or even.<p>"
      ]
    },
    {
      "cell_type": "code",
      "execution_count": null,
      "metadata": {
        "id": "RBixLLvyL7IQ",
        "colab": {
          "base_uri": "https://localhost:8080/"
        },
        "outputId": "cd4e6ebf-df3b-497f-a123-b95fd0485abb"
      },
      "outputs": [
        {
          "output_type": "stream",
          "name": "stdout",
          "text": [
            "Enter an integer:8\n",
            "8 is even\n"
          ]
        }
      ],
      "source": [
        "x = int(input(\"Enter an integer:\"))\n",
        "\n",
        "if x % 2 == 1:\n",
        "    print(x, 'is odd')\n",
        "else:\n",
        "    print(x, 'is even')"
      ]
    },
    {
      "cell_type": "markdown",
      "metadata": {
        "id": "3aHPvmZoL7IR"
      },
      "source": [
        "<h2 align=\"left\"><u>Python Follows INDENTATIONS instead of parentheses in C</u></h2>\n",
        "<p style=\"font-size:17px\">\n",
        "a. There are no braces {} in Python to demarcate blocks of code<br>\n",
        "b. Indentations (whitespaces) demarcate blocks of code <br>\n",
        "c. Changes in indentation mark where a block begins, and where it ends <br>\n",
        "d. A common convention: 4 spaces (or 1 tab, which the editor converts to 4 spaces)\n",
        "</p>"
      ]
    },
    {
      "cell_type": "code",
      "execution_count": null,
      "metadata": {
        "id": "rsOl5Q_8L7IR",
        "colab": {
          "base_uri": "https://localhost:8080/"
        },
        "outputId": "89d52fb9-38be-407b-eb39-c76c83911786"
      },
      "outputs": [
        {
          "output_type": "stream",
          "name": "stdout",
          "text": [
            "ML\n"
          ]
        }
      ],
      "source": [
        "a1 = 10\n",
        "a2 = 20\n",
        "a3 = 30\n",
        "\n",
        "if a1 == 10:\n",
        "    if a2 == 10:\n",
        "        if a3 == 20:\n",
        "            print('ECSU')\n",
        "        else:\n",
        "            print('ISI')\n",
        "    else:\n",
        "        print('ML')\n",
        "else:\n",
        "    print('2024')"
      ]
    },
    {
      "cell_type": "markdown",
      "metadata": {
        "id": "lBDkClWTL7IS"
      },
      "source": [
        "<h2 align=\"left\">8. Loops</h2>\n",
        "<h3> To do an action Repetitively</h3>"
      ]
    },
    {
      "cell_type": "markdown",
      "source": [
        "```\n",
        "#range() - a function that performs an iterated operation\n",
        "#from first index to last index using a difference as step\n",
        "```\n",
        "<h3> For Loop</h3>\n",
        "\n",
        "```\n",
        "for index in range(starting index, last index, step):\n",
        "  do task\n",
        "```"
      ],
      "metadata": {
        "id": "pJ1-a46IYPq8"
      }
    },
    {
      "cell_type": "code",
      "execution_count": null,
      "metadata": {
        "id": "vsdesBMtL7IU",
        "colab": {
          "base_uri": "https://localhost:8080/"
        },
        "outputId": "68facac2-13b5-4fc0-b2e9-e29770d731f3"
      },
      "outputs": [
        {
          "output_type": "stream",
          "name": "stdout",
          "text": [
            "0\n",
            "1\n",
            "2\n",
            "3\n",
            "4\n",
            "5\n"
          ]
        }
      ],
      "source": [
        "# range(t) : goes from 0 to t-1\n",
        "#Default step is 1\n",
        "for i in range(0, 6): # [0, 1, 2, 3, 4, 5]\n",
        "    print(i)"
      ]
    },
    {
      "cell_type": "code",
      "execution_count": null,
      "metadata": {
        "id": "7yFPvp3_L7IV",
        "colab": {
          "base_uri": "https://localhost:8080/"
        },
        "outputId": "0186322d-b34c-442b-91d0-7c8e1b8b9b18"
      },
      "outputs": [
        {
          "output_type": "stream",
          "name": "stdout",
          "text": [
            "2\n",
            "4\n",
            "6\n",
            "8\n",
            "10\n"
          ]
        }
      ],
      "source": [
        "# range(start, end, step_size)\n",
        "\n",
        "for i in range(2, 11, 2):\n",
        "    print(i)"
      ]
    },
    {
      "cell_type": "code",
      "execution_count": null,
      "metadata": {
        "id": "JryoOvIkL7IV",
        "colab": {
          "base_uri": "https://localhost:8080/"
        },
        "outputId": "a5c7d969-cc95-4ac1-cb5a-95a00421935d"
      },
      "outputs": [
        {
          "output_type": "stream",
          "name": "stdout",
          "text": [
            "5\n",
            "6\n",
            "7\n",
            "8\n"
          ]
        }
      ],
      "source": [
        "cnt = 0\n",
        "for i in range(5,10):\n",
        "    if cnt==4:\n",
        "      break\n",
        "    print(i)\n",
        "    cnt = cnt + 1"
      ]
    },
    {
      "cell_type": "code",
      "execution_count": null,
      "metadata": {
        "scrolled": true,
        "id": "NHfiGDaKL7IW",
        "colab": {
          "base_uri": "https://localhost:8080/"
        },
        "outputId": "3282635b-e82a-4461-da41-3aad23b8687e"
      },
      "outputs": [
        {
          "output_type": "stream",
          "name": "stdout",
          "text": [
            "0\n",
            "2\n",
            "4\n",
            "6\n",
            "8\n",
            "\n",
            "\n",
            "8\n",
            "6\n",
            "4\n",
            "2\n",
            "0\n"
          ]
        }
      ],
      "source": [
        "# Opposite step direction\n",
        "#### FORWARD DIRECTION\n",
        "for i in range(0,10,2):\n",
        "    print(i)\n",
        "\n",
        "print('\\n')\n",
        "\n",
        "#### BACKWARD DIRECTION\n",
        "for i in range(8,-1,-2):\n",
        "    print(i)"
      ]
    },
    {
      "cell_type": "code",
      "execution_count": null,
      "metadata": {
        "id": "eZMF4X56L7IX",
        "colab": {
          "base_uri": "https://localhost:8080/"
        },
        "outputId": "83799421-4e76-4351-ebbb-32f88a97b35a"
      },
      "outputs": [
        {
          "output_type": "stream",
          "name": "stdout",
          "text": [
            "t\n",
            "h\n",
            "e\n",
            " \n",
            "s\n",
            "a\n",
            "t\n",
            "e\n",
            "l\n",
            "l\n",
            "i\n",
            "t\n",
            "e\n"
          ]
        }
      ],
      "source": [
        "# Iterate over strings\n",
        "\n",
        "str1 = 'the satellite'\n",
        "\n",
        "for i in str1:\n",
        "    print(i)"
      ]
    },
    {
      "cell_type": "code",
      "execution_count": null,
      "metadata": {
        "id": "yZQRpT9ZL7IX",
        "colab": {
          "base_uri": "https://localhost:8080/"
        },
        "outputId": "0aa142dc-90d7-481d-b846-da5356fd26c1"
      },
      "outputs": [
        {
          "output_type": "stream",
          "name": "stdout",
          "text": [
            "s\n"
          ]
        }
      ],
      "source": [
        "# Iterate more explicitly:\n",
        "print(str1[4])"
      ]
    },
    {
      "cell_type": "code",
      "execution_count": null,
      "metadata": {
        "id": "pJTE1NVKL7IY",
        "colab": {
          "base_uri": "https://localhost:8080/"
        },
        "outputId": "0d420b46-3ff7-4952-9eda-4de2ef562632"
      },
      "outputs": [
        {
          "output_type": "stream",
          "name": "stdout",
          "text": [
            "1 t\n",
            "2 h\n",
            "3 e\n",
            "4  \n",
            "5 s\n",
            "6 a\n",
            "7 t\n",
            "8 e\n",
            "9 l\n",
            "10 l\n",
            "11 i\n",
            "12 t\n",
            "13 e\n"
          ]
        }
      ],
      "source": [
        "for i in range(len(str1)):\n",
        "    print(i+1, str1[i])"
      ]
    },
    {
      "cell_type": "code",
      "source": [
        "x = ['a', 'aa', 'abc', 'aabcd', 'bca', 'xyz', 'kyz']\n",
        "for word in x:\n",
        "  if 'a' in word:\n",
        "    print(word)\n",
        "  else:\n",
        "    print(\"Not a :\", word)"
      ],
      "metadata": {
        "colab": {
          "base_uri": "https://localhost:8080/"
        },
        "id": "kgPikfXYVkKC",
        "outputId": "77250d71-ca32-47cc-e694-2157adeee18a"
      },
      "execution_count": null,
      "outputs": [
        {
          "output_type": "stream",
          "name": "stdout",
          "text": [
            "a\n",
            "aa\n",
            "abc\n",
            "aabcd\n",
            "bca\n",
            "Not a : xyz\n",
            "Not a : kyz\n"
          ]
        }
      ]
    },
    {
      "cell_type": "markdown",
      "source": [
        "<h3>While Loop</h3>\n",
        "\n",
        "```\n",
        "while Condition:\n",
        "  Statement(s)\n",
        "```"
      ],
      "metadata": {
        "id": "Fv2rPXCLezsd"
      }
    },
    {
      "cell_type": "code",
      "execution_count": null,
      "metadata": {
        "scrolled": true,
        "id": "_-oV7OS-L7IY",
        "colab": {
          "base_uri": "https://localhost:8080/"
        },
        "outputId": "172983e2-acb4-4514-bca9-b013603d5c3b"
      },
      "outputs": [
        {
          "output_type": "stream",
          "name": "stdout",
          "text": [
            "0\n",
            "4\n",
            "8\n",
            "12\n",
            "16\n",
            "20\n",
            "24\n"
          ]
        }
      ],
      "source": [
        "i = 0 #Initialzation of iterator (say i)\n",
        "\n",
        "while i <= 24: #Put the condition on the iterator / Starting from i = 0 ending in 24\n",
        "    print(i)\n",
        "    i += 4 #Increment of the iterator / step in For Loop"
      ]
    },
    {
      "cell_type": "markdown",
      "metadata": {
        "id": "T_mPaBlfL7IZ"
      },
      "source": [
        "<b><H2>Exercise:</b> Do these programs using for and while loops both</H2>\n",
        "\n",
        "1. Write a program to print the odd integers upto 100.\n",
        "\n",
        "2. Then COUNT for odd integers which are divisible by 3 when the odd number is greater than 50."
      ]
    },
    {
      "cell_type": "code",
      "execution_count": null,
      "metadata": {
        "id": "dYKBnLNsL7IZ",
        "colab": {
          "base_uri": "https://localhost:8080/"
        },
        "outputId": "1cef08fc-3044-446a-b6e8-d30b94d6bd73"
      },
      "outputs": [
        {
          "output_type": "stream",
          "name": "stdout",
          "text": [
            "Odd integers divisible by 3 within 50 to 100:  8 \n",
            "Odd integers within 0 to 100: 50\n"
          ]
        }
      ],
      "source": [
        "i = 1\n",
        "count_odd = 0\n",
        "count = 0\n",
        "while i <= 100:\n",
        "    if i%2!=1:\n",
        "        count_odd = count_odd + 1\n",
        "        if i > 50 and i %3 ==0:\n",
        "          count = count + 1\n",
        "\n",
        "    i += 1\n",
        "print(\"Odd integers divisible by 3 within 50 to 100: \",count,\"\\nOdd integers within 0 to 100:\",count_odd)"
      ]
    },
    {
      "cell_type": "markdown",
      "metadata": {
        "id": "zgURutmIL7IZ"
      },
      "source": [
        "<h2 align=\"left\">9. <i>break, continue</i></h2>"
      ]
    },
    {
      "cell_type": "code",
      "execution_count": null,
      "metadata": {
        "ExecuteTime": {
          "end_time": "2021-03-01T11:36:03.575555Z",
          "start_time": "2021-03-01T11:36:03.566793Z"
        },
        "id": "6L_ZNxy0L7IZ",
        "colab": {
          "base_uri": "https://localhost:8080/"
        },
        "outputId": "72c0cda9-eb26-44d2-9473-e1b7f53141ce"
      },
      "outputs": [
        {
          "output_type": "stream",
          "name": "stdout",
          "text": [
            "0\n",
            "1\n",
            "2\n",
            "3\n",
            "4\n",
            "5\n",
            "6\n",
            "7\n",
            "8\n",
            "9\n",
            "10\n"
          ]
        }
      ],
      "source": [
        "# break\n",
        "\n",
        "i = 0\n",
        "while True:\n",
        "    print(i)\n",
        "    i += 1\n",
        "    if i > 10:\n",
        "        break\n",
        "\n",
        "#print(i)"
      ]
    },
    {
      "cell_type": "code",
      "execution_count": null,
      "metadata": {
        "ExecuteTime": {
          "end_time": "2021-03-01T11:37:19.628222Z",
          "start_time": "2021-03-01T11:37:19.614684Z"
        },
        "id": "EPl7nzsFL7Ia",
        "colab": {
          "base_uri": "https://localhost:8080/"
        },
        "outputId": "6a33f0ba-4fd3-4ff3-c31d-fe08a86d203e"
      },
      "outputs": [
        {
          "output_type": "stream",
          "name": "stdout",
          "text": [
            "0\n",
            "1\n",
            "2\n",
            "3\n",
            "4\n",
            "5\n",
            "6\n",
            "7\n",
            "8\n",
            "9\n",
            "10\n",
            "11\n"
          ]
        }
      ],
      "source": [
        "for i in range(15):\n",
        "    print(i)\n",
        "    if i > 10:\n",
        "        break"
      ]
    },
    {
      "cell_type": "code",
      "source": [
        "# continue to skip iteration\n",
        "i = 0\n",
        "while i < 10:\n",
        "  i += 1\n",
        "  if i == 3:\n",
        "    continue\n",
        "  print(i)"
      ],
      "metadata": {
        "colab": {
          "base_uri": "https://localhost:8080/"
        },
        "id": "j02mrwd-OW-a",
        "outputId": "a9fd80b2-bae6-4370-eadf-b130d4a2df7b"
      },
      "execution_count": null,
      "outputs": [
        {
          "output_type": "stream",
          "name": "stdout",
          "text": [
            "1\n",
            "2\n",
            "4\n",
            "5\n",
            "6\n",
            "7\n",
            "8\n",
            "9\n",
            "10\n"
          ]
        }
      ]
    },
    {
      "cell_type": "code",
      "execution_count": null,
      "metadata": {
        "ExecuteTime": {
          "end_time": "2021-03-01T11:40:23.197356Z",
          "start_time": "2021-03-01T11:40:23.187053Z"
        },
        "id": "7PisnPkZL7Ia",
        "colab": {
          "base_uri": "https://localhost:8080/"
        },
        "outputId": "4977d56f-cf0c-436b-a1df-19a13aab1518"
      },
      "outputs": [
        {
          "output_type": "stream",
          "name": "stdout",
          "text": [
            "WSDL\n",
            "WSDL\n",
            "WSDL\n",
            "WSDL\n",
            "WSDL\n",
            "33\n"
          ]
        }
      ],
      "source": [
        "# break and continue\n",
        "\n",
        "i = 0\n",
        "while True:\n",
        "    i += 1\n",
        "    if i > 32:\n",
        "        break\n",
        "    elif i <= 5:\n",
        "        print('WSDL')\n",
        "        continue\n",
        "        print('ISI')\n",
        "\n",
        "print(i)"
      ]
    },
    {
      "cell_type": "markdown",
      "metadata": {
        "id": "Ns3XQtlkL7Ia"
      },
      "source": [
        "<h3><b><u>Exercise:</u></b></h3>\n",
        "\n",
        "```\n",
        "1. Input a starting and ending index from the user\n",
        "2. if difference between starting and ending index > 10\n",
        "    then check for even or odd upto difference 20\n",
        "    if odd then count the elements which are divisible by 3 and 5\n",
        "3. else go for a walk and print the elements\n",
        "```"
      ]
    },
    {
      "cell_type": "markdown",
      "metadata": {
        "id": "iSHTskkpL7Iq"
      },
      "source": [
        "<h2 align=\"left\">10. Functions</h2>"
      ]
    },
    {
      "cell_type": "markdown",
      "source": [
        "```\n",
        "# Generic Structure of function in Python\n",
        "\n",
        "def functionName(argument1, argument2, argumentN):\n",
        "     statement(s)\n",
        "     return return1, return2, returnN\n",
        "\n",
        "#The function maynot return any value.\n",
        "```\n",
        "\n"
      ],
      "metadata": {
        "id": "W5xm1D_lepL2"
      }
    },
    {
      "cell_type": "code",
      "execution_count": null,
      "metadata": {
        "ExecuteTime": {
          "end_time": "2021-03-01T11:44:53.894247Z",
          "start_time": "2021-03-01T11:44:53.884415Z"
        },
        "id": "xsy1tvl-L7Ir"
      },
      "outputs": [],
      "source": [
        "def addition(n1, n2):\n",
        "    add_result = n1 + n2\n",
        "    return add_result #add_result = n1+n2"
      ]
    },
    {
      "cell_type": "code",
      "source": [
        "def substraction(n1, n2):\n",
        "    subs_result = n1 - n2\n",
        "    return subs_result #subs_result = n1-n2"
      ],
      "metadata": {
        "id": "LSkLskhDTJRq"
      },
      "execution_count": null,
      "outputs": []
    },
    {
      "cell_type": "code",
      "source": [
        "def multiplication(n1, n2):\n",
        "    mult_result = n1 * n2\n",
        "    return mult_result #mult_result = n1*n2"
      ],
      "metadata": {
        "id": "Y2gdFom_TX-O"
      },
      "execution_count": null,
      "outputs": []
    },
    {
      "cell_type": "code",
      "source": [
        "def division(n1, n2):\n",
        "    divide_result = n1 / n2\n",
        "    return divide_result #divide_result = n1/n2"
      ],
      "metadata": {
        "id": "LI3VprQuTkvE"
      },
      "execution_count": null,
      "outputs": []
    },
    {
      "cell_type": "code",
      "source": [
        "print(addition(20,15))\n",
        "print(division(100,5))"
      ],
      "metadata": {
        "id": "fvftPDyZnfyc",
        "colab": {
          "base_uri": "https://localhost:8080/"
        },
        "outputId": "49ce301b-aeb4-433c-d0b2-0188aeaf079f"
      },
      "execution_count": null,
      "outputs": [
        {
          "output_type": "stream",
          "name": "stdout",
          "text": [
            "35\n",
            "20.0\n"
          ]
        }
      ]
    },
    {
      "cell_type": "code",
      "execution_count": null,
      "metadata": {
        "id": "26-L93PUL7Ir"
      },
      "outputs": [],
      "source": [
        "def list_of_my_functions(n1, n2):\n",
        "    functions = {\"add\": addition(n1, n2), \"substract\": substraction(n1,n2), \"multiply\": multiplication(n1,n2), \"divide\": division(n1,n2)} #store as a dictionary\n",
        "    for i in functions:\n",
        "        print(i, functions[i])\n",
        "#return functions"
      ]
    },
    {
      "cell_type": "code",
      "execution_count": null,
      "metadata": {
        "ExecuteTime": {
          "end_time": "2021-03-01T11:44:53.894247Z",
          "start_time": "2021-03-01T11:44:53.884415Z"
        },
        "id": "foewuUUzL7Ir",
        "colab": {
          "base_uri": "https://localhost:8080/"
        },
        "outputId": "621fd1f0-72bd-4f91-d072-977e0a69640a"
      },
      "outputs": [
        {
          "output_type": "stream",
          "name": "stdout",
          "text": [
            "add 26\n",
            "substract 6\n",
            "multiply 160\n",
            "divide 1.6\n"
          ]
        }
      ],
      "source": [
        "list_of_my_functions(16, 10)"
      ]
    },
    {
      "cell_type": "code",
      "execution_count": null,
      "metadata": {
        "id": "YErCN37RL7Ir"
      },
      "outputs": [],
      "source": [
        "#Creating a calculator with Addition, Substraction, Multiplication and Division Operation\n",
        "def calculator(n1, n2):\n",
        "    sum_, substract, multiplication, division = n1 + n2, n1-n2, n1*n2, n1/n2\n",
        "    print('Sum: ', sum_)\n",
        "    print('substract: ', substract)\n",
        "    print('multiplication: ', multiplication)\n",
        "    print('division: ', division)"
      ]
    },
    {
      "cell_type": "code",
      "execution_count": null,
      "metadata": {
        "scrolled": true,
        "id": "PaziRAsnL7Is",
        "colab": {
          "base_uri": "https://localhost:8080/"
        },
        "outputId": "3dec4756-17ae-46ee-963d-57260f6b29db"
      },
      "outputs": [
        {
          "output_type": "stream",
          "name": "stdout",
          "text": [
            "Sum:  8\n",
            "substract:  4\n",
            "multiplication:  12\n",
            "division:  3.0\n"
          ]
        }
      ],
      "source": [
        "calculator(6,2)"
      ]
    },
    {
      "cell_type": "markdown",
      "metadata": {
        "id": "HXt_kQkiL7Is"
      },
      "source": [
        "```\n",
        "Exercise:\n",
        "1. Write to program to make a calculator using function.\n",
        "2. Ask users to put the name of the operation that they want to perform.\n",
        "3. Next ask them to give the numbers for performing their chosen operations.\n",
        "4. Finally dispaly the result.\n",
        "```"
      ]
    },
    {
      "cell_type": "code",
      "execution_count": null,
      "metadata": {
        "ExecuteTime": {
          "end_time": "2021-03-01T11:46:10.108490Z",
          "start_time": "2021-03-01T11:46:10.101681Z"
        },
        "id": "6Ubdat2lL7Is"
      },
      "outputs": [],
      "source": [
        "#Function to check whether a number is even or not\n",
        "def even_1(n):\n",
        "    if n % 2 == 0:\n",
        "        is_even = True\n",
        "    else:\n",
        "        is_even = False\n",
        "    return is_even"
      ]
    },
    {
      "cell_type": "code",
      "execution_count": null,
      "metadata": {
        "id": "S1AfkkzmL7Is"
      },
      "outputs": [],
      "source": [
        "#Purpose of this funtion is simiiar to the last function\n",
        "def even_2(n):\n",
        "    is_even = (n % 2 == 0)\n",
        "    return is_even"
      ]
    },
    {
      "cell_type": "code",
      "execution_count": null,
      "metadata": {
        "ExecuteTime": {
          "end_time": "2021-03-01T11:46:10.108490Z",
          "start_time": "2021-03-01T11:46:10.101681Z"
        },
        "id": "c-K8aTYdL7It",
        "colab": {
          "base_uri": "https://localhost:8080/"
        },
        "outputId": "9bc0f7d8-73c4-444b-8980-72d5a1078798"
      },
      "outputs": [
        {
          "output_type": "stream",
          "name": "stdout",
          "text": [
            "True\n",
            "False\n"
          ]
        }
      ],
      "source": [
        "#Testing whether a given number is even or not\n",
        "\n",
        "n1 = 4\n",
        "print(even_1(n1))\n",
        "\n",
        "n2 = 7\n",
        "print(even_2(n2))"
      ]
    },
    {
      "cell_type": "code",
      "execution_count": null,
      "metadata": {
        "id": "f6EH5N7DL7It",
        "colab": {
          "base_uri": "https://localhost:8080/"
        },
        "outputId": "364532ca-c31a-4ac3-929a-0358d3186560"
      },
      "outputs": [
        {
          "output_type": "stream",
          "name": "stdout",
          "text": [
            "(15, 5, 50, 2.0, 0, 2, 100000)\n",
            "24 16 80 5.0 0 5 160000\n"
          ]
        }
      ],
      "source": [
        "#Let's have a fun calculator\n",
        "def fun_calculator(n1, n2):\n",
        "    return n1+n2, n1-n2, n1*n2, n1/n2, n1%n2, n1//n2, n1**n2\n",
        "\n",
        "a1 = 10\n",
        "a2 = 5\n",
        "print(fun_calculator(a1, a2))\n",
        "\n",
        "a3 = 20\n",
        "a4 = 4\n",
        "ret1, ret2, ret3, ret4, ret5, ret6, ret7 = fun_calculator(a3, a4)\n",
        "print(ret1, ret2, ret3, ret4, ret5, ret6, ret7)"
      ]
    },
    {
      "cell_type": "code",
      "execution_count": null,
      "metadata": {
        "ExecuteTime": {
          "end_time": "2021-03-01T12:07:06.865076Z",
          "start_time": "2021-03-01T12:07:06.854594Z"
        },
        "id": "fP-qjUG5L7It"
      },
      "outputs": [],
      "source": [
        "#Addition with default value set to n2 and n3\n",
        "\n",
        "def ADD(n1, n2=4, n3=5):\n",
        "    sum = n1+n2+n3\n",
        "    return sum"
      ]
    },
    {
      "cell_type": "code",
      "execution_count": null,
      "metadata": {
        "ExecuteTime": {
          "end_time": "2021-03-01T12:07:06.865076Z",
          "start_time": "2021-03-01T12:07:06.854594Z"
        },
        "id": "LNtXuQvFL7Iu",
        "colab": {
          "base_uri": "https://localhost:8080/"
        },
        "outputId": "7cbff2e0-be93-4ffe-f5b1-9f01b9b87698"
      },
      "outputs": [
        {
          "output_type": "stream",
          "name": "stdout",
          "text": [
            "59\n",
            "68\n",
            "65\n",
            "29\n"
          ]
        }
      ],
      "source": [
        "print(ADD(n1=50))\n",
        "\n",
        "print(ADD(n1=55, n2=8))\n",
        "\n",
        "print(ADD(n1=54, n3=7))\n",
        "\n",
        "print(ADD(n1=7, n2=10, n3=12))"
      ]
    },
    {
      "cell_type": "code",
      "execution_count": null,
      "metadata": {
        "ExecuteTime": {
          "end_time": "2021-03-01T12:09:20.835902Z",
          "start_time": "2021-03-01T12:09:20.824735Z"
        },
        "id": "q1FMVJ28L7Iu"
      },
      "outputs": [],
      "source": [
        "# Setting the default exponent values to 1\n",
        "\n",
        "def power(x, p=1):\n",
        "    return x**p"
      ]
    },
    {
      "cell_type": "code",
      "execution_count": null,
      "metadata": {
        "ExecuteTime": {
          "end_time": "2021-03-01T12:09:20.835902Z",
          "start_time": "2021-03-01T12:09:20.824735Z"
        },
        "id": "oFV1aUiaL7Iu",
        "colab": {
          "base_uri": "https://localhost:8080/"
        },
        "outputId": "ee44b672-3986-455a-ef98-50f4f5542dd0"
      },
      "outputs": [
        {
          "output_type": "stream",
          "name": "stdout",
          "text": [
            "5\n",
            "1953125\n"
          ]
        }
      ],
      "source": [
        "#Setting the exponent as default\n",
        "print(power(x=5))\n",
        "\n",
        "#Setting the exponent value to 3\n",
        "print(power(5, 9))"
      ]
    },
    {
      "cell_type": "code",
      "execution_count": null,
      "metadata": {
        "ExecuteTime": {
          "end_time": "2021-03-01T12:10:11.971629Z",
          "start_time": "2021-03-01T12:10:11.956638Z"
        },
        "id": "nzvWtN8vL7Iu",
        "colab": {
          "base_uri": "https://localhost:8080/",
          "height": 140
        },
        "outputId": "f5b5953d-3dde-48e8-a2f3-36b3686eea3c"
      },
      "outputs": [
        {
          "output_type": "error",
          "ename": "SyntaxError",
          "evalue": "non-default argument follows default argument (<ipython-input-9-8dcf58a0a352>, line 3)",
          "traceback": [
            "\u001b[0;36m  File \u001b[0;32m\"<ipython-input-9-8dcf58a0a352>\"\u001b[0;36m, line \u001b[0;32m3\u001b[0m\n\u001b[0;31m    def power(x=1,p):\u001b[0m\n\u001b[0m                  ^\u001b[0m\n\u001b[0;31mSyntaxError\u001b[0m\u001b[0;31m:\u001b[0m non-default argument follows default argument\n"
          ]
        }
      ],
      "source": [
        "# Default values MUST be filled from the right and hence results in an error\n",
        "\n",
        "def power(x=1,p):\n",
        "    return x**p\n",
        "\n",
        "print(power(10, 3))\n"
      ]
    },
    {
      "cell_type": "code",
      "source": [],
      "metadata": {
        "id": "S-mopk23YvRf"
      },
      "execution_count": null,
      "outputs": []
    },
    {
      "cell_type": "code",
      "execution_count": null,
      "metadata": {
        "id": "P7xEGh3ceAGV",
        "colab": {
          "base_uri": "https://localhost:8080/"
        },
        "outputId": "92fcc70c-8e86-4ebe-c51d-ad097d6a33fd"
      },
      "outputs": [
        {
          "output_type": "stream",
          "name": "stdout",
          "text": [
            "[1, 2, 3]\n"
          ]
        }
      ],
      "source": [
        "#pass by values, pass by reference\n",
        "def fun(x):\n",
        "  x.append(3)\n",
        "  x = [4,5]\n",
        "  return x\n",
        "\n",
        "x = [1,2]\n",
        "fun(x)\n",
        "print(x)\n"
      ]
    },
    {
      "cell_type": "code",
      "source": [
        "arg_1 = 10\n",
        "arg_2 = 20\n",
        "arg_3 = 30\n",
        "\n",
        "def fun(ar_1=5, ar_2=5, ar_3=5):\n",
        "\n",
        "  ret_1 = ar_1*2\n",
        "  ret_2 = ar_2*3\n",
        "  ret_3 = ar_3*4\n",
        "\n",
        "  return ret_1, ret_2, ret_3"
      ],
      "metadata": {
        "id": "CjJK7GIsfLpS"
      },
      "execution_count": null,
      "outputs": []
    },
    {
      "cell_type": "code",
      "source": [
        "x = fun()\n",
        "print(x)\n",
        "print(x[0], x[1], x[2])"
      ],
      "metadata": {
        "colab": {
          "base_uri": "https://localhost:8080/"
        },
        "id": "fVphOLBxfiG5",
        "outputId": "8fadb50c-b902-4cd9-d855-b27922d452cc"
      },
      "execution_count": null,
      "outputs": [
        {
          "output_type": "stream",
          "name": "stdout",
          "text": [
            "(10, 15, 20)\n",
            "10 15 20\n"
          ]
        }
      ]
    },
    {
      "cell_type": "code",
      "source": [
        "x_1, x_2, x_3 = fun(arg_1)\n",
        "print(x_1, x_2, x_3)"
      ],
      "metadata": {
        "colab": {
          "base_uri": "https://localhost:8080/"
        },
        "id": "Wb1aVfMbfqyg",
        "outputId": "ee6730fe-a1d9-4382-d3a7-00509a52ca00"
      },
      "execution_count": null,
      "outputs": [
        {
          "output_type": "stream",
          "name": "stdout",
          "text": [
            "20 15 20\n"
          ]
        }
      ]
    },
    {
      "cell_type": "code",
      "source": [
        "x_1, x_2, x_3 = fun(arg_1, arg_2)\n",
        "print(x_1, x_2, x_3)"
      ],
      "metadata": {
        "colab": {
          "base_uri": "https://localhost:8080/"
        },
        "id": "H9qbqJDvfz5A",
        "outputId": "b066cee7-918a-4e2a-b03d-6557452e9fef"
      },
      "execution_count": null,
      "outputs": [
        {
          "output_type": "stream",
          "name": "stdout",
          "text": [
            "20 60 20\n"
          ]
        }
      ]
    },
    {
      "cell_type": "code",
      "source": [
        "x_1, x_2, x_3 = fun(arg_1, arg_2, arg_3)\n",
        "print(x_1, x_2, x_3)"
      ],
      "metadata": {
        "colab": {
          "base_uri": "https://localhost:8080/"
        },
        "id": "NHr4b1Suf386",
        "outputId": "8f3559cd-1953-43b2-ab59-d82b112d2649"
      },
      "execution_count": null,
      "outputs": [
        {
          "output_type": "stream",
          "name": "stdout",
          "text": [
            "20 60 120\n"
          ]
        }
      ]
    },
    {
      "cell_type": "code",
      "source": [
        "x_1, x_2, x_3 = fun(ar_1 = arg_1, arg_2, arg_3)"
      ],
      "metadata": {
        "colab": {
          "base_uri": "https://localhost:8080/",
          "height": 140
        },
        "id": "oC8k1IOaf_Ch",
        "outputId": "fbd05845-021f-48dc-8b53-9b7e55eda71d"
      },
      "execution_count": null,
      "outputs": [
        {
          "output_type": "error",
          "ename": "SyntaxError",
          "evalue": "positional argument follows keyword argument (<ipython-input-16-74b6ec3482d9>, line 1)",
          "traceback": [
            "\u001b[0;36m  File \u001b[0;32m\"<ipython-input-16-74b6ec3482d9>\"\u001b[0;36m, line \u001b[0;32m1\u001b[0m\n\u001b[0;31m    x_1, x_2, x_3 = fun(ar_1 = arg_1, arg_2, arg_3)\u001b[0m\n\u001b[0m                                                  ^\u001b[0m\n\u001b[0;31mSyntaxError\u001b[0m\u001b[0;31m:\u001b[0m positional argument follows keyword argument\n"
          ]
        }
      ]
    },
    {
      "cell_type": "code",
      "source": [
        "x_1, x_2, x_3 = fun(arg_1, ar_2 = arg_2, ar_3 = arg_3)"
      ],
      "metadata": {
        "id": "qFbSVgmrgHMw"
      },
      "execution_count": null,
      "outputs": []
    },
    {
      "cell_type": "code",
      "source": [
        "x_1, x_2, x_3 = fun(ar_3 = arg_3)\n",
        "print(x_1, x_2, x_3)"
      ],
      "metadata": {
        "colab": {
          "base_uri": "https://localhost:8080/"
        },
        "id": "P3RiUxxBgLOY",
        "outputId": "b4695df5-3250-427b-bd13-ddeb1a077475"
      },
      "execution_count": null,
      "outputs": [
        {
          "output_type": "stream",
          "name": "stdout",
          "text": [
            "10 15 120\n"
          ]
        }
      ]
    },
    {
      "cell_type": "code",
      "source": [
        "x_1, _, _ = fun(ar_3 = arg_3)\n",
        "print(x_1)"
      ],
      "metadata": {
        "colab": {
          "base_uri": "https://localhost:8080/"
        },
        "id": "eiwwgQ_jgRzY",
        "outputId": "b5acc287-737b-41ac-fc90-9a8bbf6a5e6b"
      },
      "execution_count": null,
      "outputs": [
        {
          "output_type": "stream",
          "name": "stdout",
          "text": [
            "10\n"
          ]
        }
      ]
    },
    {
      "cell_type": "markdown",
      "source": [
        "#Simple Real Life Scenarios"
      ],
      "metadata": {
        "id": "cnJiXrWaPwqs"
      }
    },
    {
      "cell_type": "markdown",
      "source": [
        "<h3> Spam Email Detection</h3>"
      ],
      "metadata": {
        "id": "X2I2OU9JP8IU"
      }
    },
    {
      "cell_type": "code",
      "source": [
        "def spam_checker(spam_mail):\n",
        "  spam_mail = spam_mail.lower()\n",
        "  if spam_mail.find('won') and spam_mail.find('claim'):\n",
        "    print('this is a spam mail.')\n",
        "  else:\n",
        "    print('Not a spam Mail!')"
      ],
      "metadata": {
        "id": "eNc-QKb6QAPk"
      },
      "execution_count": null,
      "outputs": []
    },
    {
      "cell_type": "code",
      "source": [
        "str_1 = \"You have won an amount of 1 Million Dollar. Follow this simple Steps to claim your prize!\"\n",
        "spam_checker(str_1)"
      ],
      "metadata": {
        "id": "8Ctxd-TzhljA",
        "colab": {
          "base_uri": "https://localhost:8080/"
        },
        "outputId": "fd76cda1-0bc5-4598-d458-a50f88c6804a"
      },
      "execution_count": null,
      "outputs": [
        {
          "output_type": "stream",
          "name": "stdout",
          "text": [
            "this is a spam mail.\n"
          ]
        }
      ]
    },
    {
      "cell_type": "markdown",
      "source": [
        "<h3>Tax Deduction System</h3>"
      ],
      "metadata": {
        "id": "Fz1pOW9SQPn1"
      }
    },
    {
      "cell_type": "code",
      "source": [
        "def slab2(net_sal):\n",
        "  return net_sal * .05\n",
        "\n",
        "def slab3(net_sal):\n",
        "  return 12500 + net_sal * .10\n",
        "\n",
        "def slab4(net_sal):\n",
        "  return 37500 + net_sal * .15\n",
        "\n",
        "def slab5(net_sal):\n",
        "  return 75000 + net_sal * .20\n",
        "\n",
        "def slab6(net_sal):\n",
        "  return 125000 + net_sal * .25\n",
        "\n",
        "def slab7(net_sal):\n",
        "  return 187500 + net_sal * .30"
      ],
      "metadata": {
        "id": "8TdbBxW_QTms"
      },
      "execution_count": null,
      "outputs": []
    },
    {
      "cell_type": "code",
      "source": [
        "def slab_checker(net_sal):\n",
        "  if net_sal < 250000:\n",
        "    print(\"Deducted Amount 0\")\n",
        "  elif net_sal > 250000 and net_sal < 500000:\n",
        "    print(\"Deducted Amount: \", slab2(net_sal))\n",
        "  elif net_sal > 500000 and net_sal <  750000:\n",
        "    print(\"Deducted Amount: \", slab3(net_sal))\n",
        "  elif net_sal > 750000 and net_sal <  1000000:\n",
        "    print(\"Deducted Amount: \", slab4(net_sal))\n",
        "  elif net_sal > 1000000 and net_sal <  1250000:\n",
        "    print(\"Deducted Amount: \", slab5(net_sal))\n",
        "  elif net_sal > 1250000 and net_sal <  1500000:\n",
        "    print(\"Deducted Amount: \", slab6(net_sal))\n",
        "  elif net_sal > 1500000:\n",
        "    print(\"Deducted Amount: \", slab7(net_sal))"
      ],
      "metadata": {
        "id": "bHyNSpc9iSuu"
      },
      "execution_count": null,
      "outputs": []
    },
    {
      "cell_type": "code",
      "source": [
        "sal = float(input(\"Enter your Salary:\"))\n",
        "slab_checker(sal)"
      ],
      "metadata": {
        "id": "0q6M3kiliV_e",
        "colab": {
          "base_uri": "https://localhost:8080/"
        },
        "outputId": "df066263-c821-4f06-c713-331108e8c5a4"
      },
      "execution_count": null,
      "outputs": [
        {
          "output_type": "stream",
          "name": "stdout",
          "text": [
            "Enter your Salary:1200000\n",
            "Deducted Amount:  315000.0\n"
          ]
        }
      ]
    },
    {
      "cell_type": "markdown",
      "source": [
        "<h3>Restaurant Bill Payment System</h3>"
      ],
      "metadata": {
        "id": "8gWRh34KTK49"
      }
    },
    {
      "cell_type": "code",
      "source": [
        "bill_amount = float(input(\"Enter the Bill Amount:\"))\n",
        "c_gst = s_gst = 0.025 * bill_amount\n",
        "print(\"C GST\", c_gst)\n",
        "print(\"S GST\", s_gst)\n",
        "choice = input(\"Do you want to pay Service charge? Y/N: \")\n",
        "if choice == 'Y':\n",
        "  service_charge = .06 * bill_amount\n",
        "  print(\"Service Charge\", service_charge)\n",
        "else:\n",
        "  service_charge = 0\n",
        "\n",
        "total_bill = service_charge + c_gst + s_gst + bill_amount\n",
        "print(\"Your bill amount is:\", total_bill)"
      ],
      "metadata": {
        "id": "JgrYrHIKTQck",
        "colab": {
          "base_uri": "https://localhost:8080/"
        },
        "outputId": "78a8d218-ab07-4fb5-e8ba-46fd14ea1b75"
      },
      "execution_count": null,
      "outputs": [
        {
          "output_type": "stream",
          "name": "stdout",
          "text": [
            "Enter the Bill Amount:2500\n",
            "C GST 62.5\n",
            "S GST 62.5\n",
            "Do you want to pay Service charge? Y/N: N\n",
            "Your bill amount is: 2625.0\n"
          ]
        }
      ]
    },
    {
      "cell_type": "code",
      "source": [],
      "metadata": {
        "id": "QAn0tOFwWk1N"
      },
      "execution_count": null,
      "outputs": []
    }
  ],
  "metadata": {
    "kernelspec": {
      "display_name": "Python 3",
      "language": "python",
      "name": "python3"
    },
    "language_info": {
      "codemirror_mode": {
        "name": "ipython",
        "version": 3
      },
      "file_extension": ".py",
      "mimetype": "text/x-python",
      "name": "python",
      "nbconvert_exporter": "python",
      "pygments_lexer": "ipython3",
      "version": "3.8.8"
    },
    "latex_envs": {
      "LaTeX_envs_menu_present": true,
      "autoclose": false,
      "autocomplete": true,
      "bibliofile": "biblio.bib",
      "cite_by": "apalike",
      "current_citInitial": 1,
      "eqLabelWithNumbers": true,
      "eqNumInitial": 1,
      "hotkeys": {
        "equation": "Ctrl-E",
        "itemize": "Ctrl-I"
      },
      "labels_anchors": false,
      "latex_user_defs": false,
      "report_style_numbering": false,
      "user_envs_cfg": false
    },
    "toc": {
      "base_numbering": 1,
      "nav_menu": {},
      "number_sections": true,
      "sideBar": true,
      "skip_h1_title": false,
      "title_cell": "Table of Contents",
      "title_sidebar": "Contents",
      "toc_cell": false,
      "toc_position": {},
      "toc_section_display": true,
      "toc_window_display": false
    },
    "varInspector": {
      "cols": {
        "lenName": 16,
        "lenType": 16,
        "lenVar": 40
      },
      "kernels_config": {
        "python": {
          "delete_cmd_postfix": "",
          "delete_cmd_prefix": "del ",
          "library": "var_list.py",
          "varRefreshCmd": "print(var_dic_list())"
        },
        "r": {
          "delete_cmd_postfix": ") ",
          "delete_cmd_prefix": "rm(",
          "library": "var_list.r",
          "varRefreshCmd": "cat(var_dic_list()) "
        }
      },
      "types_to_exclude": [
        "module",
        "function",
        "builtin_function_or_method",
        "instance",
        "_Feature"
      ],
      "window_display": false
    },
    "colab": {
      "provenance": []
    }
  },
  "nbformat": 4,
  "nbformat_minor": 0
}