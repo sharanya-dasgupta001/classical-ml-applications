{
  "nbformat": 4,
  "nbformat_minor": 0,
  "metadata": {
    "colab": {
      "provenance": []
    },
    "kernelspec": {
      "name": "python3",
      "display_name": "Python 3"
    }
  },
  "cells": [
    {
      "cell_type": "code",
      "metadata": {
        "id": "enLNdU7lWYKG"
      },
      "source": [
        "import numpy as np\n",
        "\n",
        "from sklearn.tree import DecisionTreeClassifier\n",
        "\n",
        "from sklearn.ensemble import AdaBoostClassifier\n",
        "\n",
        "def I(flag):\n",
        "    return 1 if flag else 0\n",
        "\n",
        "def sign(x):\n",
        "    return abs(x)/x if x!=0 else 1\n",
        "\n",
        "class AdaBoost:\n",
        "\n",
        "    def __init__(self,n_estimators=50):\n",
        "        self.n_estimators = n_estimators\n",
        "        self.models = [None]*n_estimators\n",
        "\n",
        "    def fit(self,X,y):\n",
        "\n",
        "        X = np.float64(X)\n",
        "        N = len(y)\n",
        "        w = np.array([1/N for i in range(N)])\n",
        "\n",
        "        for m in range(self.n_estimators):\n",
        "\n",
        "            Gm = DecisionTreeClassifier(max_depth=1)\\\n",
        "                        .fit(X,y,sample_weight=w).predict\n",
        "\n",
        "            errM = sum([w[i]*I(y[i]!=Gm(X[i].reshape(1,-1))) \\\n",
        "                        for i in range(N)])/sum(w)\n",
        "\n",
        "            AlphaM = np.log((1-errM)/errM)\n",
        "\n",
        "            w = [w[i]*np.exp(AlphaM*I(y[i]!=Gm(X[i].reshape(1,-1))))\\\n",
        "                     for i in range(N)]\n",
        "\n",
        "\n",
        "            self.models[m] = (AlphaM,Gm)\n",
        "\n",
        "    def predict(self,X):\n",
        "\n",
        "        y = 0\n",
        "        for m in range(self.n_estimators):\n",
        "            AlphaM,Gm = self.models[m]\n",
        "            y += AlphaM*Gm(X)\n",
        "        signA = np.vectorize(sign)\n",
        "        y = np.where(signA(y)==-1,-1,1)\n",
        "        return y"
      ],
      "execution_count": null,
      "outputs": []
    },
    {
      "cell_type": "code",
      "metadata": {
        "colab": {
          "base_uri": "https://localhost:8080/"
        },
        "id": "P7dQhu8FSPId",
        "outputId": "3371c9b0-c78b-4ac9-f479-a5a488df1efb"
      },
      "source": [
        "from sklearn.datasets import make_classification\n",
        "from sklearn.metrics import confusion_matrix as CM\n",
        "\n",
        "x,y = make_classification(n_samples=217)\n",
        "'''\n",
        "As for our implementaion of AdaBoost\n",
        "y needs to be in {-1,1}\n",
        "'''\n",
        "y = np.where(y==0,-1,1)\n",
        "\n",
        "clf = AdaBoost(n_estimators=10)\n",
        "clf.fit(x,y)\n",
        "y_pred = clf.predict(x)\n",
        "\n",
        "\n",
        "print(\"Performance:\",100*sum(y_pred==y)/len(y))\n",
        "print(\"Confusion Matrix:\\n\",CM(y,y_pred))"
      ],
      "execution_count": null,
      "outputs": [
        {
          "output_type": "stream",
          "name": "stdout",
          "text": [
            "Performance: 100.0\n",
            "Confusion Matrix:\n",
            " [[109   0]\n",
            " [  0 108]]\n"
          ]
        }
      ]
    },
    {
      "cell_type": "code",
      "metadata": {
        "colab": {
          "base_uri": "https://localhost:8080/"
        },
        "id": "efXQG9ZNSWar",
        "outputId": "6f3b7c9e-0c72-481a-cbd5-6496fbbed09c"
      },
      "source": [
        "from sklearn.ensemble import AdaBoostClassifier\n",
        "\n",
        "clf = AdaBoostClassifier(n_estimators=10,algorithm=\"SAMME\")\n",
        "clf.fit(x,y)\n",
        "y_pred2 = clf.predict(x)\n",
        "\n",
        "print(\"Performance:\",100*sum(y_pred==y)/len(y))\n",
        "print(\"Confusion Matrix:\\n\",CM(y,y_pred))"
      ],
      "execution_count": null,
      "outputs": [
        {
          "output_type": "stream",
          "name": "stdout",
          "text": [
            "Performance: 100.0\n",
            "Confusion Matrix:\n",
            " [[109   0]\n",
            " [  0 108]]\n"
          ]
        }
      ]
    },
    {
      "cell_type": "code",
      "metadata": {
        "id": "MYUtaZAlSiEr"
      },
      "source": [],
      "execution_count": null,
      "outputs": []
    }
  ]
}